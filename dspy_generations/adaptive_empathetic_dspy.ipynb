{
  "cells": [
    {
      "cell_type": "code",
      "execution_count": null,
      "metadata": {
        "colab": {
          "base_uri": "https://localhost:8080/"
        },
        "id": "cd_jQKj9jR31",
        "outputId": "30f3410f-65ed-4d24-b6db-ea1aa9d7ff09"
      },
      "outputs": [
        {
          "output_type": "stream",
          "name": "stdout",
          "text": [
            "Collecting openai\n",
            "  Downloading openai-1.13.3-py3-none-any.whl (227 kB)\n",
            "\u001b[2K     \u001b[90m━━━━━━━━━━━━━━━━━━━━━━━━━━━━━━━━━━━━━━━━\u001b[0m \u001b[32m227.4/227.4 kB\u001b[0m \u001b[31m2.1 MB/s\u001b[0m eta \u001b[36m0:00:00\u001b[0m\n",
            "\u001b[?25hRequirement already satisfied: jinja2 in /usr/local/lib/python3.10/dist-packages (3.1.3)\n",
            "Requirement already satisfied: anyio<5,>=3.5.0 in /usr/local/lib/python3.10/dist-packages (from openai) (3.7.1)\n",
            "Requirement already satisfied: distro<2,>=1.7.0 in /usr/lib/python3/dist-packages (from openai) (1.7.0)\n",
            "Collecting httpx<1,>=0.23.0 (from openai)\n",
            "  Downloading httpx-0.27.0-py3-none-any.whl (75 kB)\n",
            "\u001b[2K     \u001b[90m━━━━━━━━━━━━━━━━━━━━━━━━━━━━━━━━━━━━━━━━\u001b[0m \u001b[32m75.6/75.6 kB\u001b[0m \u001b[31m9.0 MB/s\u001b[0m eta \u001b[36m0:00:00\u001b[0m\n",
            "\u001b[?25hRequirement already satisfied: pydantic<3,>=1.9.0 in /usr/local/lib/python3.10/dist-packages (from openai) (2.6.3)\n",
            "Requirement already satisfied: sniffio in /usr/local/lib/python3.10/dist-packages (from openai) (1.3.1)\n",
            "Requirement already satisfied: tqdm>4 in /usr/local/lib/python3.10/dist-packages (from openai) (4.66.2)\n",
            "Requirement already satisfied: typing-extensions<5,>=4.7 in /usr/local/lib/python3.10/dist-packages (from openai) (4.10.0)\n",
            "Requirement already satisfied: MarkupSafe>=2.0 in /usr/local/lib/python3.10/dist-packages (from jinja2) (2.1.5)\n",
            "Requirement already satisfied: idna>=2.8 in /usr/local/lib/python3.10/dist-packages (from anyio<5,>=3.5.0->openai) (3.6)\n",
            "Requirement already satisfied: exceptiongroup in /usr/local/lib/python3.10/dist-packages (from anyio<5,>=3.5.0->openai) (1.2.0)\n",
            "Requirement already satisfied: certifi in /usr/local/lib/python3.10/dist-packages (from httpx<1,>=0.23.0->openai) (2024.2.2)\n",
            "Collecting httpcore==1.* (from httpx<1,>=0.23.0->openai)\n",
            "  Downloading httpcore-1.0.4-py3-none-any.whl (77 kB)\n",
            "\u001b[2K     \u001b[90m━━━━━━━━━━━━━━━━━━━━━━━━━━━━━━━━━━━━━━━━\u001b[0m \u001b[32m77.8/77.8 kB\u001b[0m \u001b[31m7.7 MB/s\u001b[0m eta \u001b[36m0:00:00\u001b[0m\n",
            "\u001b[?25hCollecting h11<0.15,>=0.13 (from httpcore==1.*->httpx<1,>=0.23.0->openai)\n",
            "  Downloading h11-0.14.0-py3-none-any.whl (58 kB)\n",
            "\u001b[2K     \u001b[90m━━━━━━━━━━━━━━━━━━━━━━━━━━━━━━━━━━━━━━━━\u001b[0m \u001b[32m58.3/58.3 kB\u001b[0m \u001b[31m6.6 MB/s\u001b[0m eta \u001b[36m0:00:00\u001b[0m\n",
            "\u001b[?25hRequirement already satisfied: annotated-types>=0.4.0 in /usr/local/lib/python3.10/dist-packages (from pydantic<3,>=1.9.0->openai) (0.6.0)\n",
            "Requirement already satisfied: pydantic-core==2.16.3 in /usr/local/lib/python3.10/dist-packages (from pydantic<3,>=1.9.0->openai) (2.16.3)\n",
            "Installing collected packages: h11, httpcore, httpx, openai\n",
            "Successfully installed h11-0.14.0 httpcore-1.0.4 httpx-0.27.0 openai-1.13.3\n"
          ]
        }
      ],
      "source": [
        "\n",
        "%pip install -U openai jinja2"
      ]
    },
    {
      "cell_type": "code",
      "execution_count": null,
      "metadata": {
        "colab": {
          "base_uri": "https://localhost:8080/"
        },
        "id": "FjGfETMbpq4U",
        "outputId": "2386eb6c-1f73-40f1-fd42-3c2309ad0995"
      },
      "outputs": [
        {
          "output_type": "stream",
          "name": "stdout",
          "text": [
            "Cloning into 'dspy'...\n",
            "remote: Enumerating objects: 26886, done.\u001b[K\n",
            "remote: Counting objects: 100% (3865/3865), done.\u001b[K\n",
            "remote: Compressing objects: 100% (1244/1244), done.\u001b[K\n",
            "remote: Total 26886 (delta 2946), reused 3119 (delta 2589), pack-reused 23021\u001b[K\n",
            "Receiving objects: 100% (26886/26886), 26.09 MiB | 14.55 MiB/s, done.\n",
            "Resolving deltas: 100% (11471/11471), done.\n",
            "/content/dspy\n",
            "/usr/local/lib/python3.10/dist-packages/setuptools/config/_apply_pyprojecttoml.py:69: SetuptoolsWarning: `install_requires` overwritten in `pyproject.toml` (dependencies)\n",
            "  corresp(dist, value, root_dir)\n",
            "running install\n",
            "/usr/local/lib/python3.10/dist-packages/setuptools/_distutils/cmd.py:66: SetuptoolsDeprecationWarning: setup.py install is deprecated.\n",
            "!!\n",
            "\n",
            "        ********************************************************************************\n",
            "        Please avoid running ``setup.py`` directly.\n",
            "        Instead, use pypa/build, pypa/installer, pypa/build or\n",
            "        other standards-based tools.\n",
            "\n",
            "        See https://blog.ganssle.io/articles/2021/10/setup-py-deprecated.html for details.\n",
            "        ********************************************************************************\n",
            "\n",
            "!!\n",
            "  self.initialize_options()\n",
            "/usr/local/lib/python3.10/dist-packages/setuptools/_distutils/cmd.py:66: EasyInstallDeprecationWarning: easy_install command is deprecated.\n",
            "!!\n",
            "\n",
            "        ********************************************************************************\n",
            "        Please avoid running ``setup.py`` and ``easy_install``.\n",
            "        Instead, use pypa/build, pypa/installer, pypa/build or\n",
            "        other standards-based tools.\n",
            "\n",
            "        See https://github.com/pypa/setuptools/issues/917 for details.\n",
            "        ********************************************************************************\n",
            "\n",
            "!!\n",
            "  self.initialize_options()\n",
            "running bdist_egg\n",
            "running egg_info\n",
            "creating dspy_ai.egg-info\n",
            "writing dspy_ai.egg-info/PKG-INFO\n",
            "writing dependency_links to dspy_ai.egg-info/dependency_links.txt\n",
            "writing requirements to dspy_ai.egg-info/requires.txt\n",
            "writing top-level names to dspy_ai.egg-info/top_level.txt\n",
            "writing manifest file 'dspy_ai.egg-info/SOURCES.txt'\n",
            "reading manifest file 'dspy_ai.egg-info/SOURCES.txt'\n",
            "adding license file 'LICENSE'\n",
            "writing manifest file 'dspy_ai.egg-info/SOURCES.txt'\n",
            "installing library code to build/bdist.linux-x86_64/egg\n",
            "running install_lib\n",
            "running build_py\n",
            "creating build\n",
            "creating build/lib\n",
            "creating build/lib/dspy\n",
            "copying dspy/__init__.py -> build/lib/dspy\n",
            "creating build/lib/dsp\n",
            "copying dsp/__init__.py -> build/lib/dsp\n",
            "creating build/lib/dspy/functional\n",
            "copying dspy/functional/__init__.py -> build/lib/dspy/functional\n",
            "copying dspy/functional/functional.py -> build/lib/dspy/functional\n",
            "creating build/lib/dspy/primitives\n",
            "copying dspy/primitives/module.py -> build/lib/dspy/primitives\n",
            "copying dspy/primitives/__init__.py -> build/lib/dspy/primitives\n",
            "copying dspy/primitives/prediction.py -> build/lib/dspy/primitives\n",
            "copying dspy/primitives/program.py -> build/lib/dspy/primitives\n",
            "copying dspy/primitives/example.py -> build/lib/dspy/primitives\n",
            "copying dspy/primitives/python_interpreter.py -> build/lib/dspy/primitives\n",
            "copying dspy/primitives/assertions.py -> build/lib/dspy/primitives\n",
            "copying dspy/primitives/box.py -> build/lib/dspy/primitives\n",
            "creating build/lib/dspy/adapters\n",
            "copying dspy/adapters/__init__.py -> build/lib/dspy/adapters\n",
            "copying dspy/adapters/llamachat_adapter.py -> build/lib/dspy/adapters\n",
            "copying dspy/adapters/basic_adapter.py -> build/lib/dspy/adapters\n",
            "copying dspy/adapters/vicuna_adapter.py -> build/lib/dspy/adapters\n",
            "copying dspy/adapters/chatml_adapter.py -> build/lib/dspy/adapters\n",
            "creating build/lib/dspy/evaluate\n",
            "copying dspy/evaluate/__init__.py -> build/lib/dspy/evaluate\n",
            "copying dspy/evaluate/metrics.py -> build/lib/dspy/evaluate\n",
            "copying dspy/evaluate/auto_evaluation.py -> build/lib/dspy/evaluate\n",
            "copying dspy/evaluate/evaluate.py -> build/lib/dspy/evaluate\n",
            "creating build/lib/dspy/teleprompt\n",
            "copying dspy/teleprompt/random_search.py -> build/lib/dspy/teleprompt\n",
            "copying dspy/teleprompt/__init__.py -> build/lib/dspy/teleprompt\n",
            "copying dspy/teleprompt/teleprompt.py -> build/lib/dspy/teleprompt\n",
            "copying dspy/teleprompt/signature_opt_bayesian.py -> build/lib/dspy/teleprompt\n",
            "copying dspy/teleprompt/signature_opt.py -> build/lib/dspy/teleprompt\n",
            "copying dspy/teleprompt/copro_optimizer.py -> build/lib/dspy/teleprompt\n",
            "copying dspy/teleprompt/finetune.py -> build/lib/dspy/teleprompt\n",
            "copying dspy/teleprompt/bootstrap.py -> build/lib/dspy/teleprompt\n",
            "copying dspy/teleprompt/mipro_optimizer.py -> build/lib/dspy/teleprompt\n",
            "copying dspy/teleprompt/ensemble.py -> build/lib/dspy/teleprompt\n",
            "copying dspy/teleprompt/signature_opt_typed.py -> build/lib/dspy/teleprompt\n",
            "copying dspy/teleprompt/vanilla.py -> build/lib/dspy/teleprompt\n",
            "copying dspy/teleprompt/teleprompt_optuna.py -> build/lib/dspy/teleprompt\n",
            "copying dspy/teleprompt/knn_fewshot.py -> build/lib/dspy/teleprompt\n",
            "creating build/lib/dspy/experimental\n",
            "copying dspy/experimental/synthesizer.py -> build/lib/dspy/experimental\n",
            "copying dspy/experimental/__init__.py -> build/lib/dspy/experimental\n",
            "copying dspy/experimental/synthetic_data.py -> build/lib/dspy/experimental\n",
            "creating build/lib/dspy/retrieve\n",
            "copying dspy/retrieve/clarifai_rm.py -> build/lib/dspy/retrieve\n",
            "copying dspy/retrieve/__init__.py -> build/lib/dspy/retrieve\n",
            "copying dspy/retrieve/pgvector_rm.py -> build/lib/dspy/retrieve\n",
            "copying dspy/retrieve/qdrant_rm.py -> build/lib/dspy/retrieve\n",
            "copying dspy/retrieve/pinecone_rm.py -> build/lib/dspy/retrieve\n",
            "copying dspy/retrieve/weaviate_rm.py -> build/lib/dspy/retrieve\n",
            "copying dspy/retrieve/databricks_rm.py -> build/lib/dspy/retrieve\n",
            "copying dspy/retrieve/weaviate_rm_test.py -> build/lib/dspy/retrieve\n",
            "copying dspy/retrieve/chromadb_rm.py -> build/lib/dspy/retrieve\n",
            "copying dspy/retrieve/marqo_rm.py -> build/lib/dspy/retrieve\n",
            "copying dspy/retrieve/vectara_rm.py -> build/lib/dspy/retrieve\n",
            "copying dspy/retrieve/faiss_rm.py -> build/lib/dspy/retrieve\n",
            "copying dspy/retrieve/you_rm.py -> build/lib/dspy/retrieve\n",
            "copying dspy/retrieve/neo4j_rm.py -> build/lib/dspy/retrieve\n",
            "copying dspy/retrieve/retrieve.py -> build/lib/dspy/retrieve\n",
            "copying dspy/retrieve/mongodb_atlas_rm.py -> build/lib/dspy/retrieve\n",
            "copying dspy/retrieve/deeplake_rm.py -> build/lib/dspy/retrieve\n",
            "creating build/lib/dspy/datasets\n",
            "copying dspy/datasets/__init__.py -> build/lib/dspy/datasets\n",
            "copying dspy/datasets/dataset.py -> build/lib/dspy/datasets\n",
            "copying dspy/datasets/hotpotqa.py -> build/lib/dspy/datasets\n",
            "copying dspy/datasets/gsm8k.py -> build/lib/dspy/datasets\n",
            "copying dspy/datasets/dataloader.py -> build/lib/dspy/datasets\n",
            "copying dspy/datasets/colors.py -> build/lib/dspy/datasets\n",
            "creating build/lib/dspy/signatures\n",
            "copying dspy/signatures/__init__.py -> build/lib/dspy/signatures\n",
            "copying dspy/signatures/field.py -> build/lib/dspy/signatures\n",
            "copying dspy/signatures/signature.py -> build/lib/dspy/signatures\n",
            "creating build/lib/dspy/utils\n",
            "copying dspy/utils/__init__.py -> build/lib/dspy/utils\n",
            "copying dspy/utils/dummies.py -> build/lib/dspy/utils\n",
            "creating build/lib/dspy/predict\n",
            "copying dspy/predict/__init__.py -> build/lib/dspy/predict\n",
            "copying dspy/predict/program_of_thought.py -> build/lib/dspy/predict\n",
            "copying dspy/predict/chain_of_thought.py -> build/lib/dspy/predict\n",
            "copying dspy/predict/aggregation.py -> build/lib/dspy/predict\n",
            "copying dspy/predict/parameter.py -> build/lib/dspy/predict\n",
            "copying dspy/predict/langchain.py -> build/lib/dspy/predict\n",
            "copying dspy/predict/knn.py -> build/lib/dspy/predict\n",
            "copying dspy/predict/retry.py -> build/lib/dspy/predict\n",
            "copying dspy/predict/react.py -> build/lib/dspy/predict\n",
            "copying dspy/predict/predict.py -> build/lib/dspy/predict\n",
            "copying dspy/predict/chain_of_thought_with_hint.py -> build/lib/dspy/predict\n",
            "copying dspy/predict/multi_chain_comparison.py -> build/lib/dspy/predict\n",
            "creating build/lib/dsp/primitives\n",
            "copying dsp/primitives/__init__.py -> build/lib/dsp/primitives\n",
            "copying dsp/primitives/inspect.py -> build/lib/dsp/primitives\n",
            "copying dsp/primitives/demonstrate.py -> build/lib/dsp/primitives\n",
            "copying dsp/primitives/primitives.py -> build/lib/dsp/primitives\n",
            "copying dsp/primitives/predict.py -> build/lib/dsp/primitives\n",
            "copying dsp/primitives/compiler.py -> build/lib/dsp/primitives\n",
            "copying dsp/primitives/search.py -> build/lib/dsp/primitives\n",
            "creating build/lib/dsp/evaluation\n",
            "copying dsp/evaluation/__init__.py -> build/lib/dsp/evaluation\n",
            "copying dsp/evaluation/utils.py -> build/lib/dsp/evaluation\n",
            "creating build/lib/dsp/modules\n",
            "copying dsp/modules/sentence_vectorizer.py -> build/lib/dsp/modules\n",
            "copying dsp/modules/__init__.py -> build/lib/dsp/modules\n",
            "copying dsp/modules/aws_lm.py -> build/lib/dsp/modules\n",
            "copying dsp/modules/google.py -> build/lib/dsp/modules\n",
            "copying dsp/modules/azurecognitivesearch.py -> build/lib/dsp/modules\n",
            "copying dsp/modules/azure_openai.py -> build/lib/dsp/modules\n",
            "copying dsp/modules/gpt3.py -> build/lib/dsp/modules\n",
            "copying dsp/modules/pyserini.py -> build/lib/dsp/modules\n",
            "copying dsp/modules/colbertv2.py -> build/lib/dsp/modules\n",
            "copying dsp/modules/hf.py -> build/lib/dsp/modules\n",
            "copying dsp/modules/anthropic.py -> build/lib/dsp/modules\n",
            "copying dsp/modules/hf_server.py -> build/lib/dsp/modules\n",
            "copying dsp/modules/clarifai.py -> build/lib/dsp/modules\n",
            "copying dsp/modules/hf_client.py -> build/lib/dsp/modules\n",
            "copying dsp/modules/cohere.py -> build/lib/dsp/modules\n",
            "copying dsp/modules/lm.py -> build/lib/dsp/modules\n",
            "copying dsp/modules/bedrock.py -> build/lib/dsp/modules\n",
            "copying dsp/modules/sbert.py -> build/lib/dsp/modules\n",
            "copying dsp/modules/ollama.py -> build/lib/dsp/modules\n",
            "copying dsp/modules/databricks.py -> build/lib/dsp/modules\n",
            "copying dsp/modules/cache_utils.py -> build/lib/dsp/modules\n",
            "creating build/lib/dsp/templates\n",
            "copying dsp/templates/__init__.py -> build/lib/dsp/templates\n",
            "copying dsp/templates/template_v3.py -> build/lib/dsp/templates\n",
            "copying dsp/templates/template_v2.py -> build/lib/dsp/templates\n",
            "copying dsp/templates/utils.py -> build/lib/dsp/templates\n",
            "creating build/lib/dsp/utils\n",
            "copying dsp/utils/__init__.py -> build/lib/dsp/utils\n",
            "copying dsp/utils/metrics.py -> build/lib/dsp/utils\n",
            "copying dsp/utils/settings_v2.py -> build/lib/dsp/utils\n",
            "copying dsp/utils/ann_utils.py -> build/lib/dsp/utils\n",
            "copying dsp/utils/settings.py -> build/lib/dsp/utils\n",
            "copying dsp/utils/utils.py -> build/lib/dsp/utils\n",
            "copying dsp/utils/dpr.py -> build/lib/dsp/utils\n",
            "creating build/lib/dsp/modules/finetuning\n",
            "copying dsp/modules/finetuning/__init__.py -> build/lib/dsp/modules/finetuning\n",
            "copying dsp/modules/finetuning/finetune_hf.py -> build/lib/dsp/modules/finetuning\n",
            "creating build/bdist.linux-x86_64\n",
            "creating build/bdist.linux-x86_64/egg\n",
            "creating build/bdist.linux-x86_64/egg/dspy\n",
            "creating build/bdist.linux-x86_64/egg/dspy/functional\n",
            "copying build/lib/dspy/functional/__init__.py -> build/bdist.linux-x86_64/egg/dspy/functional\n",
            "copying build/lib/dspy/functional/functional.py -> build/bdist.linux-x86_64/egg/dspy/functional\n",
            "copying build/lib/dspy/__init__.py -> build/bdist.linux-x86_64/egg/dspy\n",
            "creating build/bdist.linux-x86_64/egg/dspy/primitives\n",
            "copying build/lib/dspy/primitives/module.py -> build/bdist.linux-x86_64/egg/dspy/primitives\n",
            "copying build/lib/dspy/primitives/__init__.py -> build/bdist.linux-x86_64/egg/dspy/primitives\n",
            "copying build/lib/dspy/primitives/prediction.py -> build/bdist.linux-x86_64/egg/dspy/primitives\n",
            "copying build/lib/dspy/primitives/program.py -> build/bdist.linux-x86_64/egg/dspy/primitives\n",
            "copying build/lib/dspy/primitives/example.py -> build/bdist.linux-x86_64/egg/dspy/primitives\n",
            "copying build/lib/dspy/primitives/python_interpreter.py -> build/bdist.linux-x86_64/egg/dspy/primitives\n",
            "copying build/lib/dspy/primitives/assertions.py -> build/bdist.linux-x86_64/egg/dspy/primitives\n",
            "copying build/lib/dspy/primitives/box.py -> build/bdist.linux-x86_64/egg/dspy/primitives\n",
            "creating build/bdist.linux-x86_64/egg/dspy/adapters\n",
            "copying build/lib/dspy/adapters/__init__.py -> build/bdist.linux-x86_64/egg/dspy/adapters\n",
            "copying build/lib/dspy/adapters/llamachat_adapter.py -> build/bdist.linux-x86_64/egg/dspy/adapters\n",
            "copying build/lib/dspy/adapters/basic_adapter.py -> build/bdist.linux-x86_64/egg/dspy/adapters\n",
            "copying build/lib/dspy/adapters/vicuna_adapter.py -> build/bdist.linux-x86_64/egg/dspy/adapters\n",
            "copying build/lib/dspy/adapters/chatml_adapter.py -> build/bdist.linux-x86_64/egg/dspy/adapters\n",
            "creating build/bdist.linux-x86_64/egg/dspy/evaluate\n",
            "copying build/lib/dspy/evaluate/__init__.py -> build/bdist.linux-x86_64/egg/dspy/evaluate\n",
            "copying build/lib/dspy/evaluate/metrics.py -> build/bdist.linux-x86_64/egg/dspy/evaluate\n",
            "copying build/lib/dspy/evaluate/auto_evaluation.py -> build/bdist.linux-x86_64/egg/dspy/evaluate\n",
            "copying build/lib/dspy/evaluate/evaluate.py -> build/bdist.linux-x86_64/egg/dspy/evaluate\n",
            "creating build/bdist.linux-x86_64/egg/dspy/teleprompt\n",
            "copying build/lib/dspy/teleprompt/random_search.py -> build/bdist.linux-x86_64/egg/dspy/teleprompt\n",
            "copying build/lib/dspy/teleprompt/__init__.py -> build/bdist.linux-x86_64/egg/dspy/teleprompt\n",
            "copying build/lib/dspy/teleprompt/teleprompt.py -> build/bdist.linux-x86_64/egg/dspy/teleprompt\n",
            "copying build/lib/dspy/teleprompt/signature_opt_bayesian.py -> build/bdist.linux-x86_64/egg/dspy/teleprompt\n",
            "copying build/lib/dspy/teleprompt/signature_opt.py -> build/bdist.linux-x86_64/egg/dspy/teleprompt\n",
            "copying build/lib/dspy/teleprompt/copro_optimizer.py -> build/bdist.linux-x86_64/egg/dspy/teleprompt\n",
            "copying build/lib/dspy/teleprompt/finetune.py -> build/bdist.linux-x86_64/egg/dspy/teleprompt\n",
            "copying build/lib/dspy/teleprompt/bootstrap.py -> build/bdist.linux-x86_64/egg/dspy/teleprompt\n",
            "copying build/lib/dspy/teleprompt/mipro_optimizer.py -> build/bdist.linux-x86_64/egg/dspy/teleprompt\n",
            "copying build/lib/dspy/teleprompt/ensemble.py -> build/bdist.linux-x86_64/egg/dspy/teleprompt\n",
            "copying build/lib/dspy/teleprompt/signature_opt_typed.py -> build/bdist.linux-x86_64/egg/dspy/teleprompt\n",
            "copying build/lib/dspy/teleprompt/vanilla.py -> build/bdist.linux-x86_64/egg/dspy/teleprompt\n",
            "copying build/lib/dspy/teleprompt/teleprompt_optuna.py -> build/bdist.linux-x86_64/egg/dspy/teleprompt\n",
            "copying build/lib/dspy/teleprompt/knn_fewshot.py -> build/bdist.linux-x86_64/egg/dspy/teleprompt\n",
            "creating build/bdist.linux-x86_64/egg/dspy/experimental\n",
            "copying build/lib/dspy/experimental/synthesizer.py -> build/bdist.linux-x86_64/egg/dspy/experimental\n",
            "copying build/lib/dspy/experimental/__init__.py -> build/bdist.linux-x86_64/egg/dspy/experimental\n",
            "copying build/lib/dspy/experimental/synthetic_data.py -> build/bdist.linux-x86_64/egg/dspy/experimental\n",
            "creating build/bdist.linux-x86_64/egg/dspy/retrieve\n",
            "copying build/lib/dspy/retrieve/clarifai_rm.py -> build/bdist.linux-x86_64/egg/dspy/retrieve\n",
            "copying build/lib/dspy/retrieve/__init__.py -> build/bdist.linux-x86_64/egg/dspy/retrieve\n",
            "copying build/lib/dspy/retrieve/pgvector_rm.py -> build/bdist.linux-x86_64/egg/dspy/retrieve\n",
            "copying build/lib/dspy/retrieve/qdrant_rm.py -> build/bdist.linux-x86_64/egg/dspy/retrieve\n",
            "copying build/lib/dspy/retrieve/pinecone_rm.py -> build/bdist.linux-x86_64/egg/dspy/retrieve\n",
            "copying build/lib/dspy/retrieve/weaviate_rm.py -> build/bdist.linux-x86_64/egg/dspy/retrieve\n",
            "copying build/lib/dspy/retrieve/databricks_rm.py -> build/bdist.linux-x86_64/egg/dspy/retrieve\n",
            "copying build/lib/dspy/retrieve/weaviate_rm_test.py -> build/bdist.linux-x86_64/egg/dspy/retrieve\n",
            "copying build/lib/dspy/retrieve/chromadb_rm.py -> build/bdist.linux-x86_64/egg/dspy/retrieve\n",
            "copying build/lib/dspy/retrieve/marqo_rm.py -> build/bdist.linux-x86_64/egg/dspy/retrieve\n",
            "copying build/lib/dspy/retrieve/vectara_rm.py -> build/bdist.linux-x86_64/egg/dspy/retrieve\n",
            "copying build/lib/dspy/retrieve/faiss_rm.py -> build/bdist.linux-x86_64/egg/dspy/retrieve\n",
            "copying build/lib/dspy/retrieve/you_rm.py -> build/bdist.linux-x86_64/egg/dspy/retrieve\n",
            "copying build/lib/dspy/retrieve/neo4j_rm.py -> build/bdist.linux-x86_64/egg/dspy/retrieve\n",
            "copying build/lib/dspy/retrieve/retrieve.py -> build/bdist.linux-x86_64/egg/dspy/retrieve\n",
            "copying build/lib/dspy/retrieve/mongodb_atlas_rm.py -> build/bdist.linux-x86_64/egg/dspy/retrieve\n",
            "copying build/lib/dspy/retrieve/deeplake_rm.py -> build/bdist.linux-x86_64/egg/dspy/retrieve\n",
            "creating build/bdist.linux-x86_64/egg/dspy/datasets\n",
            "copying build/lib/dspy/datasets/__init__.py -> build/bdist.linux-x86_64/egg/dspy/datasets\n",
            "copying build/lib/dspy/datasets/dataset.py -> build/bdist.linux-x86_64/egg/dspy/datasets\n",
            "copying build/lib/dspy/datasets/hotpotqa.py -> build/bdist.linux-x86_64/egg/dspy/datasets\n",
            "copying build/lib/dspy/datasets/gsm8k.py -> build/bdist.linux-x86_64/egg/dspy/datasets\n",
            "copying build/lib/dspy/datasets/dataloader.py -> build/bdist.linux-x86_64/egg/dspy/datasets\n",
            "copying build/lib/dspy/datasets/colors.py -> build/bdist.linux-x86_64/egg/dspy/datasets\n",
            "creating build/bdist.linux-x86_64/egg/dspy/signatures\n",
            "copying build/lib/dspy/signatures/__init__.py -> build/bdist.linux-x86_64/egg/dspy/signatures\n",
            "copying build/lib/dspy/signatures/field.py -> build/bdist.linux-x86_64/egg/dspy/signatures\n",
            "copying build/lib/dspy/signatures/signature.py -> build/bdist.linux-x86_64/egg/dspy/signatures\n",
            "creating build/bdist.linux-x86_64/egg/dspy/utils\n",
            "copying build/lib/dspy/utils/__init__.py -> build/bdist.linux-x86_64/egg/dspy/utils\n",
            "copying build/lib/dspy/utils/dummies.py -> build/bdist.linux-x86_64/egg/dspy/utils\n",
            "creating build/bdist.linux-x86_64/egg/dspy/predict\n",
            "copying build/lib/dspy/predict/__init__.py -> build/bdist.linux-x86_64/egg/dspy/predict\n",
            "copying build/lib/dspy/predict/program_of_thought.py -> build/bdist.linux-x86_64/egg/dspy/predict\n",
            "copying build/lib/dspy/predict/chain_of_thought.py -> build/bdist.linux-x86_64/egg/dspy/predict\n",
            "copying build/lib/dspy/predict/aggregation.py -> build/bdist.linux-x86_64/egg/dspy/predict\n",
            "copying build/lib/dspy/predict/parameter.py -> build/bdist.linux-x86_64/egg/dspy/predict\n",
            "copying build/lib/dspy/predict/langchain.py -> build/bdist.linux-x86_64/egg/dspy/predict\n",
            "copying build/lib/dspy/predict/knn.py -> build/bdist.linux-x86_64/egg/dspy/predict\n",
            "copying build/lib/dspy/predict/retry.py -> build/bdist.linux-x86_64/egg/dspy/predict\n",
            "copying build/lib/dspy/predict/react.py -> build/bdist.linux-x86_64/egg/dspy/predict\n",
            "copying build/lib/dspy/predict/predict.py -> build/bdist.linux-x86_64/egg/dspy/predict\n",
            "copying build/lib/dspy/predict/chain_of_thought_with_hint.py -> build/bdist.linux-x86_64/egg/dspy/predict\n",
            "copying build/lib/dspy/predict/multi_chain_comparison.py -> build/bdist.linux-x86_64/egg/dspy/predict\n",
            "creating build/bdist.linux-x86_64/egg/dsp\n",
            "copying build/lib/dsp/__init__.py -> build/bdist.linux-x86_64/egg/dsp\n",
            "creating build/bdist.linux-x86_64/egg/dsp/primitives\n",
            "copying build/lib/dsp/primitives/__init__.py -> build/bdist.linux-x86_64/egg/dsp/primitives\n",
            "copying build/lib/dsp/primitives/inspect.py -> build/bdist.linux-x86_64/egg/dsp/primitives\n",
            "copying build/lib/dsp/primitives/demonstrate.py -> build/bdist.linux-x86_64/egg/dsp/primitives\n",
            "copying build/lib/dsp/primitives/primitives.py -> build/bdist.linux-x86_64/egg/dsp/primitives\n",
            "copying build/lib/dsp/primitives/predict.py -> build/bdist.linux-x86_64/egg/dsp/primitives\n",
            "copying build/lib/dsp/primitives/compiler.py -> build/bdist.linux-x86_64/egg/dsp/primitives\n",
            "copying build/lib/dsp/primitives/search.py -> build/bdist.linux-x86_64/egg/dsp/primitives\n",
            "creating build/bdist.linux-x86_64/egg/dsp/evaluation\n",
            "copying build/lib/dsp/evaluation/__init__.py -> build/bdist.linux-x86_64/egg/dsp/evaluation\n",
            "copying build/lib/dsp/evaluation/utils.py -> build/bdist.linux-x86_64/egg/dsp/evaluation\n",
            "creating build/bdist.linux-x86_64/egg/dsp/modules\n",
            "copying build/lib/dsp/modules/sentence_vectorizer.py -> build/bdist.linux-x86_64/egg/dsp/modules\n",
            "copying build/lib/dsp/modules/__init__.py -> build/bdist.linux-x86_64/egg/dsp/modules\n",
            "copying build/lib/dsp/modules/aws_lm.py -> build/bdist.linux-x86_64/egg/dsp/modules\n",
            "copying build/lib/dsp/modules/google.py -> build/bdist.linux-x86_64/egg/dsp/modules\n",
            "copying build/lib/dsp/modules/azurecognitivesearch.py -> build/bdist.linux-x86_64/egg/dsp/modules\n",
            "copying build/lib/dsp/modules/azure_openai.py -> build/bdist.linux-x86_64/egg/dsp/modules\n",
            "copying build/lib/dsp/modules/gpt3.py -> build/bdist.linux-x86_64/egg/dsp/modules\n",
            "creating build/bdist.linux-x86_64/egg/dsp/modules/finetuning\n",
            "copying build/lib/dsp/modules/finetuning/__init__.py -> build/bdist.linux-x86_64/egg/dsp/modules/finetuning\n",
            "copying build/lib/dsp/modules/finetuning/finetune_hf.py -> build/bdist.linux-x86_64/egg/dsp/modules/finetuning\n",
            "copying build/lib/dsp/modules/pyserini.py -> build/bdist.linux-x86_64/egg/dsp/modules\n",
            "copying build/lib/dsp/modules/colbertv2.py -> build/bdist.linux-x86_64/egg/dsp/modules\n",
            "copying build/lib/dsp/modules/hf.py -> build/bdist.linux-x86_64/egg/dsp/modules\n",
            "copying build/lib/dsp/modules/anthropic.py -> build/bdist.linux-x86_64/egg/dsp/modules\n",
            "copying build/lib/dsp/modules/hf_server.py -> build/bdist.linux-x86_64/egg/dsp/modules\n",
            "copying build/lib/dsp/modules/clarifai.py -> build/bdist.linux-x86_64/egg/dsp/modules\n",
            "copying build/lib/dsp/modules/hf_client.py -> build/bdist.linux-x86_64/egg/dsp/modules\n",
            "copying build/lib/dsp/modules/cohere.py -> build/bdist.linux-x86_64/egg/dsp/modules\n",
            "copying build/lib/dsp/modules/lm.py -> build/bdist.linux-x86_64/egg/dsp/modules\n",
            "copying build/lib/dsp/modules/bedrock.py -> build/bdist.linux-x86_64/egg/dsp/modules\n",
            "copying build/lib/dsp/modules/sbert.py -> build/bdist.linux-x86_64/egg/dsp/modules\n",
            "copying build/lib/dsp/modules/ollama.py -> build/bdist.linux-x86_64/egg/dsp/modules\n",
            "copying build/lib/dsp/modules/databricks.py -> build/bdist.linux-x86_64/egg/dsp/modules\n",
            "copying build/lib/dsp/modules/cache_utils.py -> build/bdist.linux-x86_64/egg/dsp/modules\n",
            "creating build/bdist.linux-x86_64/egg/dsp/templates\n",
            "copying build/lib/dsp/templates/__init__.py -> build/bdist.linux-x86_64/egg/dsp/templates\n",
            "copying build/lib/dsp/templates/template_v3.py -> build/bdist.linux-x86_64/egg/dsp/templates\n",
            "copying build/lib/dsp/templates/template_v2.py -> build/bdist.linux-x86_64/egg/dsp/templates\n",
            "copying build/lib/dsp/templates/utils.py -> build/bdist.linux-x86_64/egg/dsp/templates\n",
            "creating build/bdist.linux-x86_64/egg/dsp/utils\n",
            "copying build/lib/dsp/utils/__init__.py -> build/bdist.linux-x86_64/egg/dsp/utils\n",
            "copying build/lib/dsp/utils/metrics.py -> build/bdist.linux-x86_64/egg/dsp/utils\n",
            "copying build/lib/dsp/utils/settings_v2.py -> build/bdist.linux-x86_64/egg/dsp/utils\n",
            "copying build/lib/dsp/utils/ann_utils.py -> build/bdist.linux-x86_64/egg/dsp/utils\n",
            "copying build/lib/dsp/utils/settings.py -> build/bdist.linux-x86_64/egg/dsp/utils\n",
            "copying build/lib/dsp/utils/utils.py -> build/bdist.linux-x86_64/egg/dsp/utils\n",
            "copying build/lib/dsp/utils/dpr.py -> build/bdist.linux-x86_64/egg/dsp/utils\n",
            "byte-compiling build/bdist.linux-x86_64/egg/dspy/functional/__init__.py to __init__.cpython-310.pyc\n",
            "byte-compiling build/bdist.linux-x86_64/egg/dspy/functional/functional.py to functional.cpython-310.pyc\n",
            "byte-compiling build/bdist.linux-x86_64/egg/dspy/__init__.py to __init__.cpython-310.pyc\n",
            "byte-compiling build/bdist.linux-x86_64/egg/dspy/primitives/module.py to module.cpython-310.pyc\n",
            "byte-compiling build/bdist.linux-x86_64/egg/dspy/primitives/__init__.py to __init__.cpython-310.pyc\n",
            "byte-compiling build/bdist.linux-x86_64/egg/dspy/primitives/prediction.py to prediction.cpython-310.pyc\n",
            "byte-compiling build/bdist.linux-x86_64/egg/dspy/primitives/program.py to program.cpython-310.pyc\n",
            "byte-compiling build/bdist.linux-x86_64/egg/dspy/primitives/example.py to example.cpython-310.pyc\n",
            "byte-compiling build/bdist.linux-x86_64/egg/dspy/primitives/python_interpreter.py to python_interpreter.cpython-310.pyc\n",
            "byte-compiling build/bdist.linux-x86_64/egg/dspy/primitives/assertions.py to assertions.cpython-310.pyc\n",
            "byte-compiling build/bdist.linux-x86_64/egg/dspy/primitives/box.py to box.cpython-310.pyc\n",
            "byte-compiling build/bdist.linux-x86_64/egg/dspy/adapters/__init__.py to __init__.cpython-310.pyc\n",
            "byte-compiling build/bdist.linux-x86_64/egg/dspy/adapters/llamachat_adapter.py to llamachat_adapter.cpython-310.pyc\n",
            "byte-compiling build/bdist.linux-x86_64/egg/dspy/adapters/basic_adapter.py to basic_adapter.cpython-310.pyc\n",
            "byte-compiling build/bdist.linux-x86_64/egg/dspy/adapters/vicuna_adapter.py to vicuna_adapter.cpython-310.pyc\n",
            "byte-compiling build/bdist.linux-x86_64/egg/dspy/adapters/chatml_adapter.py to chatml_adapter.cpython-310.pyc\n",
            "byte-compiling build/bdist.linux-x86_64/egg/dspy/evaluate/__init__.py to __init__.cpython-310.pyc\n",
            "byte-compiling build/bdist.linux-x86_64/egg/dspy/evaluate/metrics.py to metrics.cpython-310.pyc\n",
            "byte-compiling build/bdist.linux-x86_64/egg/dspy/evaluate/auto_evaluation.py to auto_evaluation.cpython-310.pyc\n",
            "byte-compiling build/bdist.linux-x86_64/egg/dspy/evaluate/evaluate.py to evaluate.cpython-310.pyc\n",
            "byte-compiling build/bdist.linux-x86_64/egg/dspy/teleprompt/random_search.py to random_search.cpython-310.pyc\n",
            "byte-compiling build/bdist.linux-x86_64/egg/dspy/teleprompt/__init__.py to __init__.cpython-310.pyc\n",
            "byte-compiling build/bdist.linux-x86_64/egg/dspy/teleprompt/teleprompt.py to teleprompt.cpython-310.pyc\n",
            "byte-compiling build/bdist.linux-x86_64/egg/dspy/teleprompt/signature_opt_bayesian.py to signature_opt_bayesian.cpython-310.pyc\n",
            "byte-compiling build/bdist.linux-x86_64/egg/dspy/teleprompt/signature_opt.py to signature_opt.cpython-310.pyc\n",
            "byte-compiling build/bdist.linux-x86_64/egg/dspy/teleprompt/copro_optimizer.py to copro_optimizer.cpython-310.pyc\n",
            "byte-compiling build/bdist.linux-x86_64/egg/dspy/teleprompt/finetune.py to finetune.cpython-310.pyc\n",
            "byte-compiling build/bdist.linux-x86_64/egg/dspy/teleprompt/bootstrap.py to bootstrap.cpython-310.pyc\n",
            "byte-compiling build/bdist.linux-x86_64/egg/dspy/teleprompt/mipro_optimizer.py to mipro_optimizer.cpython-310.pyc\n",
            "byte-compiling build/bdist.linux-x86_64/egg/dspy/teleprompt/ensemble.py to ensemble.cpython-310.pyc\n",
            "byte-compiling build/bdist.linux-x86_64/egg/dspy/teleprompt/signature_opt_typed.py to signature_opt_typed.cpython-310.pyc\n",
            "byte-compiling build/bdist.linux-x86_64/egg/dspy/teleprompt/vanilla.py to vanilla.cpython-310.pyc\n",
            "byte-compiling build/bdist.linux-x86_64/egg/dspy/teleprompt/teleprompt_optuna.py to teleprompt_optuna.cpython-310.pyc\n",
            "byte-compiling build/bdist.linux-x86_64/egg/dspy/teleprompt/knn_fewshot.py to knn_fewshot.cpython-310.pyc\n",
            "byte-compiling build/bdist.linux-x86_64/egg/dspy/experimental/synthesizer.py to synthesizer.cpython-310.pyc\n",
            "byte-compiling build/bdist.linux-x86_64/egg/dspy/experimental/__init__.py to __init__.cpython-310.pyc\n",
            "byte-compiling build/bdist.linux-x86_64/egg/dspy/experimental/synthetic_data.py to synthetic_data.cpython-310.pyc\n",
            "byte-compiling build/bdist.linux-x86_64/egg/dspy/retrieve/clarifai_rm.py to clarifai_rm.cpython-310.pyc\n",
            "byte-compiling build/bdist.linux-x86_64/egg/dspy/retrieve/__init__.py to __init__.cpython-310.pyc\n",
            "byte-compiling build/bdist.linux-x86_64/egg/dspy/retrieve/pgvector_rm.py to pgvector_rm.cpython-310.pyc\n",
            "byte-compiling build/bdist.linux-x86_64/egg/dspy/retrieve/qdrant_rm.py to qdrant_rm.cpython-310.pyc\n",
            "byte-compiling build/bdist.linux-x86_64/egg/dspy/retrieve/pinecone_rm.py to pinecone_rm.cpython-310.pyc\n",
            "byte-compiling build/bdist.linux-x86_64/egg/dspy/retrieve/weaviate_rm.py to weaviate_rm.cpython-310.pyc\n",
            "byte-compiling build/bdist.linux-x86_64/egg/dspy/retrieve/databricks_rm.py to databricks_rm.cpython-310.pyc\n",
            "byte-compiling build/bdist.linux-x86_64/egg/dspy/retrieve/weaviate_rm_test.py to weaviate_rm_test.cpython-310.pyc\n",
            "byte-compiling build/bdist.linux-x86_64/egg/dspy/retrieve/chromadb_rm.py to chromadb_rm.cpython-310.pyc\n",
            "byte-compiling build/bdist.linux-x86_64/egg/dspy/retrieve/marqo_rm.py to marqo_rm.cpython-310.pyc\n",
            "byte-compiling build/bdist.linux-x86_64/egg/dspy/retrieve/vectara_rm.py to vectara_rm.cpython-310.pyc\n",
            "byte-compiling build/bdist.linux-x86_64/egg/dspy/retrieve/faiss_rm.py to faiss_rm.cpython-310.pyc\n",
            "byte-compiling build/bdist.linux-x86_64/egg/dspy/retrieve/you_rm.py to you_rm.cpython-310.pyc\n",
            "byte-compiling build/bdist.linux-x86_64/egg/dspy/retrieve/neo4j_rm.py to neo4j_rm.cpython-310.pyc\n",
            "byte-compiling build/bdist.linux-x86_64/egg/dspy/retrieve/retrieve.py to retrieve.cpython-310.pyc\n",
            "byte-compiling build/bdist.linux-x86_64/egg/dspy/retrieve/mongodb_atlas_rm.py to mongodb_atlas_rm.cpython-310.pyc\n",
            "byte-compiling build/bdist.linux-x86_64/egg/dspy/retrieve/deeplake_rm.py to deeplake_rm.cpython-310.pyc\n",
            "byte-compiling build/bdist.linux-x86_64/egg/dspy/datasets/__init__.py to __init__.cpython-310.pyc\n",
            "byte-compiling build/bdist.linux-x86_64/egg/dspy/datasets/dataset.py to dataset.cpython-310.pyc\n",
            "byte-compiling build/bdist.linux-x86_64/egg/dspy/datasets/hotpotqa.py to hotpotqa.cpython-310.pyc\n",
            "byte-compiling build/bdist.linux-x86_64/egg/dspy/datasets/gsm8k.py to gsm8k.cpython-310.pyc\n",
            "byte-compiling build/bdist.linux-x86_64/egg/dspy/datasets/dataloader.py to dataloader.cpython-310.pyc\n",
            "byte-compiling build/bdist.linux-x86_64/egg/dspy/datasets/colors.py to colors.cpython-310.pyc\n",
            "byte-compiling build/bdist.linux-x86_64/egg/dspy/signatures/__init__.py to __init__.cpython-310.pyc\n",
            "byte-compiling build/bdist.linux-x86_64/egg/dspy/signatures/field.py to field.cpython-310.pyc\n",
            "byte-compiling build/bdist.linux-x86_64/egg/dspy/signatures/signature.py to signature.cpython-310.pyc\n",
            "byte-compiling build/bdist.linux-x86_64/egg/dspy/utils/__init__.py to __init__.cpython-310.pyc\n",
            "byte-compiling build/bdist.linux-x86_64/egg/dspy/utils/dummies.py to dummies.cpython-310.pyc\n",
            "byte-compiling build/bdist.linux-x86_64/egg/dspy/predict/__init__.py to __init__.cpython-310.pyc\n",
            "byte-compiling build/bdist.linux-x86_64/egg/dspy/predict/program_of_thought.py to program_of_thought.cpython-310.pyc\n",
            "byte-compiling build/bdist.linux-x86_64/egg/dspy/predict/chain_of_thought.py to chain_of_thought.cpython-310.pyc\n",
            "byte-compiling build/bdist.linux-x86_64/egg/dspy/predict/aggregation.py to aggregation.cpython-310.pyc\n",
            "byte-compiling build/bdist.linux-x86_64/egg/dspy/predict/parameter.py to parameter.cpython-310.pyc\n",
            "byte-compiling build/bdist.linux-x86_64/egg/dspy/predict/langchain.py to langchain.cpython-310.pyc\n",
            "byte-compiling build/bdist.linux-x86_64/egg/dspy/predict/knn.py to knn.cpython-310.pyc\n",
            "byte-compiling build/bdist.linux-x86_64/egg/dspy/predict/retry.py to retry.cpython-310.pyc\n",
            "byte-compiling build/bdist.linux-x86_64/egg/dspy/predict/react.py to react.cpython-310.pyc\n",
            "byte-compiling build/bdist.linux-x86_64/egg/dspy/predict/predict.py to predict.cpython-310.pyc\n",
            "byte-compiling build/bdist.linux-x86_64/egg/dspy/predict/chain_of_thought_with_hint.py to chain_of_thought_with_hint.cpython-310.pyc\n",
            "byte-compiling build/bdist.linux-x86_64/egg/dspy/predict/multi_chain_comparison.py to multi_chain_comparison.cpython-310.pyc\n",
            "byte-compiling build/bdist.linux-x86_64/egg/dsp/__init__.py to __init__.cpython-310.pyc\n",
            "byte-compiling build/bdist.linux-x86_64/egg/dsp/primitives/__init__.py to __init__.cpython-310.pyc\n",
            "byte-compiling build/bdist.linux-x86_64/egg/dsp/primitives/inspect.py to inspect.cpython-310.pyc\n",
            "byte-compiling build/bdist.linux-x86_64/egg/dsp/primitives/demonstrate.py to demonstrate.cpython-310.pyc\n",
            "byte-compiling build/bdist.linux-x86_64/egg/dsp/primitives/primitives.py to primitives.cpython-310.pyc\n",
            "byte-compiling build/bdist.linux-x86_64/egg/dsp/primitives/predict.py to predict.cpython-310.pyc\n",
            "byte-compiling build/bdist.linux-x86_64/egg/dsp/primitives/compiler.py to compiler.cpython-310.pyc\n",
            "byte-compiling build/bdist.linux-x86_64/egg/dsp/primitives/search.py to search.cpython-310.pyc\n",
            "byte-compiling build/bdist.linux-x86_64/egg/dsp/evaluation/__init__.py to __init__.cpython-310.pyc\n",
            "byte-compiling build/bdist.linux-x86_64/egg/dsp/evaluation/utils.py to utils.cpython-310.pyc\n",
            "byte-compiling build/bdist.linux-x86_64/egg/dsp/modules/sentence_vectorizer.py to sentence_vectorizer.cpython-310.pyc\n",
            "byte-compiling build/bdist.linux-x86_64/egg/dsp/modules/__init__.py to __init__.cpython-310.pyc\n",
            "byte-compiling build/bdist.linux-x86_64/egg/dsp/modules/aws_lm.py to aws_lm.cpython-310.pyc\n",
            "byte-compiling build/bdist.linux-x86_64/egg/dsp/modules/google.py to google.cpython-310.pyc\n",
            "byte-compiling build/bdist.linux-x86_64/egg/dsp/modules/azurecognitivesearch.py to azurecognitivesearch.cpython-310.pyc\n",
            "byte-compiling build/bdist.linux-x86_64/egg/dsp/modules/azure_openai.py to azure_openai.cpython-310.pyc\n",
            "byte-compiling build/bdist.linux-x86_64/egg/dsp/modules/gpt3.py to gpt3.cpython-310.pyc\n",
            "byte-compiling build/bdist.linux-x86_64/egg/dsp/modules/finetuning/__init__.py to __init__.cpython-310.pyc\n",
            "byte-compiling build/bdist.linux-x86_64/egg/dsp/modules/finetuning/finetune_hf.py to finetune_hf.cpython-310.pyc\n",
            "byte-compiling build/bdist.linux-x86_64/egg/dsp/modules/pyserini.py to pyserini.cpython-310.pyc\n",
            "byte-compiling build/bdist.linux-x86_64/egg/dsp/modules/colbertv2.py to colbertv2.cpython-310.pyc\n",
            "byte-compiling build/bdist.linux-x86_64/egg/dsp/modules/hf.py to hf.cpython-310.pyc\n",
            "byte-compiling build/bdist.linux-x86_64/egg/dsp/modules/anthropic.py to anthropic.cpython-310.pyc\n",
            "byte-compiling build/bdist.linux-x86_64/egg/dsp/modules/hf_server.py to hf_server.cpython-310.pyc\n",
            "byte-compiling build/bdist.linux-x86_64/egg/dsp/modules/clarifai.py to clarifai.cpython-310.pyc\n",
            "byte-compiling build/bdist.linux-x86_64/egg/dsp/modules/hf_client.py to hf_client.cpython-310.pyc\n",
            "byte-compiling build/bdist.linux-x86_64/egg/dsp/modules/cohere.py to cohere.cpython-310.pyc\n",
            "byte-compiling build/bdist.linux-x86_64/egg/dsp/modules/lm.py to lm.cpython-310.pyc\n",
            "byte-compiling build/bdist.linux-x86_64/egg/dsp/modules/bedrock.py to bedrock.cpython-310.pyc\n",
            "byte-compiling build/bdist.linux-x86_64/egg/dsp/modules/sbert.py to sbert.cpython-310.pyc\n",
            "byte-compiling build/bdist.linux-x86_64/egg/dsp/modules/ollama.py to ollama.cpython-310.pyc\n",
            "byte-compiling build/bdist.linux-x86_64/egg/dsp/modules/databricks.py to databricks.cpython-310.pyc\n",
            "byte-compiling build/bdist.linux-x86_64/egg/dsp/modules/cache_utils.py to cache_utils.cpython-310.pyc\n",
            "byte-compiling build/bdist.linux-x86_64/egg/dsp/templates/__init__.py to __init__.cpython-310.pyc\n",
            "byte-compiling build/bdist.linux-x86_64/egg/dsp/templates/template_v3.py to template_v3.cpython-310.pyc\n",
            "byte-compiling build/bdist.linux-x86_64/egg/dsp/templates/template_v2.py to template_v2.cpython-310.pyc\n",
            "byte-compiling build/bdist.linux-x86_64/egg/dsp/templates/utils.py to utils.cpython-310.pyc\n",
            "byte-compiling build/bdist.linux-x86_64/egg/dsp/utils/__init__.py to __init__.cpython-310.pyc\n",
            "byte-compiling build/bdist.linux-x86_64/egg/dsp/utils/metrics.py to metrics.cpython-310.pyc\n",
            "byte-compiling build/bdist.linux-x86_64/egg/dsp/utils/settings_v2.py to settings_v2.cpython-310.pyc\n",
            "byte-compiling build/bdist.linux-x86_64/egg/dsp/utils/ann_utils.py to ann_utils.cpython-310.pyc\n",
            "byte-compiling build/bdist.linux-x86_64/egg/dsp/utils/settings.py to settings.cpython-310.pyc\n",
            "byte-compiling build/bdist.linux-x86_64/egg/dsp/utils/utils.py to utils.cpython-310.pyc\n",
            "byte-compiling build/bdist.linux-x86_64/egg/dsp/utils/dpr.py to dpr.cpython-310.pyc\n",
            "creating build/bdist.linux-x86_64/egg/EGG-INFO\n",
            "copying dspy_ai.egg-info/PKG-INFO -> build/bdist.linux-x86_64/egg/EGG-INFO\n",
            "copying dspy_ai.egg-info/SOURCES.txt -> build/bdist.linux-x86_64/egg/EGG-INFO\n",
            "copying dspy_ai.egg-info/dependency_links.txt -> build/bdist.linux-x86_64/egg/EGG-INFO\n",
            "copying dspy_ai.egg-info/requires.txt -> build/bdist.linux-x86_64/egg/EGG-INFO\n",
            "copying dspy_ai.egg-info/top_level.txt -> build/bdist.linux-x86_64/egg/EGG-INFO\n",
            "zip_safe flag not set; analyzing archive contents...\n",
            "dsp.primitives.__pycache__.inspect.cpython-310: module MAY be using inspect.stack\n",
            "dspy.primitives.__pycache__.assertions.cpython-310: module MAY be using inspect.trace\n",
            "creating dist\n",
            "creating 'dist/dspy_ai-2.4.1-py3.10.egg' and adding 'build/bdist.linux-x86_64/egg' to it\n",
            "removing 'build/bdist.linux-x86_64/egg' (and everything under it)\n",
            "Processing dspy_ai-2.4.1-py3.10.egg\n",
            "creating /usr/local/lib/python3.10/dist-packages/dspy_ai-2.4.1-py3.10.egg\n",
            "Extracting dspy_ai-2.4.1-py3.10.egg to /usr/local/lib/python3.10/dist-packages\n",
            "Adding dspy-ai 2.4.1 to easy-install.pth file\n",
            "\n",
            "Installed /usr/local/lib/python3.10/dist-packages/dspy_ai-2.4.1-py3.10.egg\n",
            "Processing dependencies for dspy-ai==2.4.1\n",
            "Searching for pydantic==2.5.0\n",
            "Reading https://pypi.org/simple/pydantic/\n",
            "Downloading https://files.pythonhosted.org/packages/d7/10/ddfb9539a6e55f7dfd6c2b9b81d86fcba2761ba87eeb81f8b1012957dcdc/pydantic-2.5.0-py3-none-any.whl#sha256=7ce6e766c456ad026fe5712f7bcf036efc34bd5d107b3e669ef7ea01b3a9050c\n",
            "Best match: pydantic 2.5.0\n",
            "Processing pydantic-2.5.0-py3-none-any.whl\n",
            "Installing pydantic-2.5.0-py3-none-any.whl to /usr/local/lib/python3.10/dist-packages\n",
            "Adding pydantic 2.5.0 to easy-install.pth file\n",
            "\n",
            "Installed /usr/local/lib/python3.10/dist-packages/pydantic-2.5.0-py3.10.egg\n",
            "Searching for optuna\n",
            "Reading https://pypi.org/simple/optuna/\n",
            "Downloading https://files.pythonhosted.org/packages/4c/6a/219a431aaf81b3eb3070fd2d58116baa366d3072f43bbcc87dc3495b7546/optuna-3.5.0-py3-none-any.whl#sha256=4c86bbcaeff9ad5b0758e87537793f66df8f9352246315d7121ea465724a44e8\n",
            "Best match: optuna 3.5.0\n",
            "Processing optuna-3.5.0-py3-none-any.whl\n",
            "Installing optuna-3.5.0-py3-none-any.whl to /usr/local/lib/python3.10/dist-packages\n",
            "Adding optuna 3.5.0 to easy-install.pth file\n",
            "Installing optuna script to /usr/local/bin\n",
            "\n",
            "Installed /usr/local/lib/python3.10/dist-packages/optuna-3.5.0-py3.10.egg\n",
            "Searching for datasets<3.0.0,~=2.14.6\n",
            "Reading https://pypi.org/simple/datasets/\n",
            "Downloading https://files.pythonhosted.org/packages/00/23/80a2147a547cb2fd59eb92a13787c849b3efaefcea02a5c963dfc93f7c56/datasets-2.14.7-py3-none-any.whl#sha256=1a64041a7da4f4130f736fc371c1f528b8ddd208cebe156400f65719bdbba79d\n",
            "Best match: datasets 2.14.7\n",
            "Processing datasets-2.14.7-py3-none-any.whl\n",
            "Installing datasets-2.14.7-py3-none-any.whl to /usr/local/lib/python3.10/dist-packages\n",
            "Adding datasets 2.14.7 to easy-install.pth file\n",
            "Installing datasets-cli script to /usr/local/bin\n",
            "\n",
            "Installed /usr/local/lib/python3.10/dist-packages/datasets-2.14.7-py3.10.egg\n",
            "Searching for ujson\n",
            "Reading https://pypi.org/simple/ujson/\n",
            "Downloading https://files.pythonhosted.org/packages/5f/7f/a5802c527de69d012bf836ff3cc72ca70e0d799dff6034d39f68c27f2d50/ujson-5.9.0-cp310-cp310-manylinux_2_17_x86_64.manylinux2014_x86_64.whl#sha256=779a2a88c53039bebfbccca934430dabb5c62cc179e09a9c27a322023f363e0d\n",
            "Best match: ujson 5.9.0\n",
            "Processing ujson-5.9.0-cp310-cp310-manylinux_2_17_x86_64.manylinux2014_x86_64.whl\n",
            "Installing ujson-5.9.0-cp310-cp310-manylinux_2_17_x86_64.manylinux2014_x86_64.whl to /usr/local/lib/python3.10/dist-packages\n",
            "Adding ujson 5.9.0 to easy-install.pth file\n",
            "\n",
            "Installed /usr/local/lib/python3.10/dist-packages/ujson-5.9.0-py3.10-linux-x86_64.egg\n",
            "Searching for backoff~=2.2.1\n",
            "Reading https://pypi.org/simple/backoff/\n",
            "Downloading https://files.pythonhosted.org/packages/df/73/b6e24bd22e6720ca8ee9a85a0c4a2971af8497d8f3193fa05390cbd46e09/backoff-2.2.1-py3-none-any.whl#sha256=63579f9a0628e06278f7e47b7d7d5b6ce20dc65c5e96a6f3ca99a6adca0396e8\n",
            "Best match: backoff 2.2.1\n",
            "Processing backoff-2.2.1-py3-none-any.whl\n",
            "Installing backoff-2.2.1-py3-none-any.whl to /usr/local/lib/python3.10/dist-packages\n",
            "Adding backoff 2.2.1 to easy-install.pth file\n",
            "\n",
            "Installed /usr/local/lib/python3.10/dist-packages/backoff-2.2.1-py3.10.egg\n",
            "Searching for pydantic-core==2.14.1\n",
            "Reading https://pypi.org/simple/pydantic-core/\n",
            "Downloading https://files.pythonhosted.org/packages/46/f5/b2e3dae75ccae405954e20b47f65493838f7303eb7b7aad39858cd9db0b7/pydantic_core-2.14.1-cp310-cp310-manylinux_2_17_x86_64.manylinux2014_x86_64.whl#sha256=49ee28d65f506b2858a60745cc974ed005298ebab12693646b97641dd7c99c35\n",
            "Best match: pydantic-core 2.14.1\n",
            "Processing pydantic_core-2.14.1-cp310-cp310-manylinux_2_17_x86_64.manylinux2014_x86_64.whl\n",
            "Installing pydantic_core-2.14.1-cp310-cp310-manylinux_2_17_x86_64.manylinux2014_x86_64.whl to /usr/local/lib/python3.10/dist-packages\n",
            "Adding pydantic-core 2.14.1 to easy-install.pth file\n",
            "\n",
            "Installed /usr/local/lib/python3.10/dist-packages/pydantic_core-2.14.1-py3.10-linux-x86_64.egg\n",
            "Searching for colorlog\n",
            "Reading https://pypi.org/simple/colorlog/\n",
            "Downloading https://files.pythonhosted.org/packages/f3/18/3e867ab37a24fdf073c1617b9c7830e06ec270b1ea4694a624038fc40a03/colorlog-6.8.2-py3-none-any.whl#sha256=4dcbb62368e2800cb3c5abd348da7e53f6c362dda502ec27c560b2e58a66bd33\n",
            "Best match: colorlog 6.8.2\n",
            "Processing colorlog-6.8.2-py3-none-any.whl\n",
            "Installing colorlog-6.8.2-py3-none-any.whl to /usr/local/lib/python3.10/dist-packages\n",
            "Adding colorlog 6.8.2 to easy-install.pth file\n",
            "\n",
            "Installed /usr/local/lib/python3.10/dist-packages/colorlog-6.8.2-py3.10.egg\n",
            "Searching for alembic>=1.5.0\n",
            "Reading https://pypi.org/simple/alembic/\n",
            "Downloading https://files.pythonhosted.org/packages/7f/50/9fb3a5c80df6eb6516693270621676980acd6d5a9a7efdbfa273f8d616c7/alembic-1.13.1-py3-none-any.whl#sha256=2edcc97bed0bd3272611ce3a98d98279e9c209e7186e43e75bbb1b2bdfdbcc43\n",
            "Best match: alembic 1.13.1\n",
            "Processing alembic-1.13.1-py3-none-any.whl\n",
            "Installing alembic-1.13.1-py3-none-any.whl to /usr/local/lib/python3.10/dist-packages\n",
            "Adding alembic 1.13.1 to easy-install.pth file\n",
            "Installing alembic script to /usr/local/bin\n",
            "\n",
            "Installed /usr/local/lib/python3.10/dist-packages/alembic-1.13.1-py3.10.egg\n",
            "Searching for multiprocess\n",
            "Reading https://pypi.org/simple/multiprocess/\n",
            "Downloading https://files.pythonhosted.org/packages/ea/89/38df130f2c799090c978b366cfdf5b96d08de5b29a4a293df7f7429fa50b/multiprocess-0.70.16-py38-none-any.whl#sha256=a71d82033454891091a226dfc319d0cfa8019a4e888ef9ca910372a446de4435\n",
            "Best match: multiprocess 0.70.16\n",
            "Processing multiprocess-0.70.16-py38-none-any.whl\n",
            "Installing multiprocess-0.70.16-py38-none-any.whl to /usr/local/lib/python3.10/dist-packages\n",
            "Adding multiprocess 0.70.16 to easy-install.pth file\n",
            "\n",
            "Installed /usr/local/lib/python3.10/dist-packages/multiprocess-0.70.16-py3.10.egg\n",
            "Searching for dill<0.3.8,>=0.3.0\n",
            "Reading https://pypi.org/simple/dill/\n",
            "Downloading https://files.pythonhosted.org/packages/f5/3a/74a29b11cf2cdfcd6ba89c0cecd70b37cd1ba7b77978ce611eb7a146a832/dill-0.3.7-py3-none-any.whl#sha256=76b122c08ef4ce2eedcd4d1abd8e641114bfc6c2867f49f3c41facf65bf19f5e\n",
            "Best match: dill 0.3.7\n",
            "Processing dill-0.3.7-py3-none-any.whl\n",
            "Installing dill-0.3.7-py3-none-any.whl to /usr/local/lib/python3.10/dist-packages\n",
            "Adding dill 0.3.7 to easy-install.pth file\n",
            "Installing get_gprof script to /usr/local/bin\n",
            "Installing undill script to /usr/local/bin\n",
            "Installing get_objgraph script to /usr/local/bin\n",
            "\n",
            "Installed /usr/local/lib/python3.10/dist-packages/dill-0.3.7-py3.10.egg\n",
            "Searching for Mako\n",
            "Reading https://pypi.org/simple/Mako/\n",
            "Downloading https://files.pythonhosted.org/packages/2b/8d/9f11d0b9ac521febb806e7f30dc5982d0f4f5821217712c59005fbc5c1e3/Mako-1.3.2-py3-none-any.whl#sha256=32a99d70754dfce237019d17ffe4a282d2d3351b9c476e90d8a60e63f133b80c\n",
            "Best match: Mako 1.3.2\n",
            "Processing Mako-1.3.2-py3-none-any.whl\n",
            "Installing Mako-1.3.2-py3-none-any.whl to /usr/local/lib/python3.10/dist-packages\n",
            "Adding Mako 1.3.2 to easy-install.pth file\n",
            "Installing mako-render script to /usr/local/bin\n",
            "\n",
            "Installed /usr/local/lib/python3.10/dist-packages/Mako-1.3.2-py3.10.egg\n",
            "error: dill 0.3.7 is installed but dill>=0.3.8 is required by {'multiprocess'}\n"
          ]
        }
      ],
      "source": [
        "!rm -rf dspy\n",
        "!git clone https://github.com/stanfordnlp/dspy.git\n",
        "%cd dspy\n",
        "!python setup.py install"
      ]
    },
    {
      "cell_type": "code",
      "execution_count": null,
      "metadata": {
        "colab": {
          "base_uri": "https://localhost:8080/"
        },
        "id": "9qMJ8oUFqlmx",
        "outputId": "482d6fdd-d3b0-4c01-8468-cdfbcf9a46da"
      },
      "outputs": [
        {
          "output_type": "stream",
          "name": "stdout",
          "text": [
            "Requirement already satisfied: backoff in /usr/local/lib/python3.10/dist-packages/backoff-2.2.1-py3.10.egg (2.2.1)\n"
          ]
        }
      ],
      "source": [
        "!pip install backoff"
      ]
    },
    {
      "cell_type": "code",
      "execution_count": null,
      "metadata": {
        "colab": {
          "base_uri": "https://localhost:8080/"
        },
        "id": "cOGX9UUDA1kE",
        "outputId": "a8ff3c2c-11a5-4943-c6d2-ef7ae13c5886"
      },
      "outputs": [
        {
          "output_type": "stream",
          "name": "stdout",
          "text": [
            "Mounted at /content/drive\n"
          ]
        }
      ],
      "source": [
        "from google.colab import drive\n",
        "drive.mount('/content/drive')"
      ]
    },
    {
      "cell_type": "markdown",
      "metadata": {
        "id": "AnevLAk8jwyC"
      },
      "source": [
        "# Constructing Base Pipeline"
      ]
    },
    {
      "cell_type": "code",
      "execution_count": null,
      "metadata": {
        "id": "aanlea3BjwIv"
      },
      "outputs": [],
      "source": [
        "import dspy\n",
        "\n",
        "from dspy.evaluate.evaluate import Evaluate\n",
        "from dspy.teleprompt import BootstrapFewShotWithRandomSearch, BayesianSignatureOptimizer\n"
      ]
    },
    {
      "cell_type": "code",
      "execution_count": null,
      "metadata": {
        "id": "GsSkmZSQimnL"
      },
      "outputs": [],
      "source": [
        "import os\n",
        "os.environ[\"OPENAI_API_KEY\"] = \"<OPENAI_API_KEY>\""
      ]
    },
    {
      "cell_type": "code",
      "execution_count": null,
      "metadata": {
        "id": "sBelL-o5iqdP"
      },
      "outputs": [],
      "source": [
        "turbo = dspy.OpenAI(model=\"gpt-3.5-turbo-instruct\", max_tokens=1000)\n",
        "dspy.configure(lm=turbo)"
      ]
    },
    {
      "cell_type": "code",
      "execution_count": null,
      "metadata": {
        "id": "1sqQOLMnjkZJ"
      },
      "outputs": [],
      "source": [
        "class StudentFeedback(dspy.Signature):\n",
        "    \"\"\"A student is learning English. You are assessing a spoken utterance. In at most two sentences, summarize (1) their specific strengths in English skills and (2) things they can work on to improve. Address the student in the second person. Include specific examples that the student can learn from. Be colloquial, as if in spoken conversation.\"\"\"\n",
        "\n",
        "    convo = dspy.InputField()\n",
        "    output = dspy.OutputField(desc=\"Treat this as a spoken conversation, so be succinct, colloquial, and empathetic.\")"
      ]
    },
    {
      "cell_type": "code",
      "execution_count": null,
      "metadata": {
        "id": "BKdk71G6lily"
      },
      "outputs": [],
      "source": [
        "class OfferFeedback(dspy.Module):\n",
        "    def __init__(self):\n",
        "        super().__init__()\n",
        "        self.generate_feedback = dspy.ChainOfThought(StudentFeedback)\n",
        "\n",
        "    def forward(self, convo):\n",
        "        answer = self.generate_feedback(convo=convo)\n",
        "        return answer"
      ]
    },
    {
      "cell_type": "code",
      "execution_count": null,
      "metadata": {
        "id": "jzK-CNrilkCJ"
      },
      "outputs": [],
      "source": [
        "zeroshot = OfferFeedback()"
      ]
    },
    {
      "cell_type": "code",
      "execution_count": null,
      "metadata": {
        "colab": {
          "base_uri": "https://localhost:8080/"
        },
        "id": "ZvS4UH0DltFT",
        "outputId": "c8aa589c-ba54-430d-c559-e0d7141dd136"
      },
      "outputs": [
        {
          "output_type": "execute_result",
          "data": {
            "text/plain": [
              "Prediction(\n",
              "    rationale='assess your spoken utterance. We can see that you have a strong grasp of English vocabulary and grammar, as evidenced by your ability to express complex ideas and use a variety of sentence structures. However, you may want to work on your pronunciation and intonation, as some of your words were not clear and your speech lacked natural rhythm. For example, you said \"met\" instead of \"meet\" and \"classroom\" instead of \"classmate.\" Practicing with a native speaker or using online resources can help you improve in this area. Keep up the good work!',\n",
              "    output='You have a great understanding of English vocabulary and grammar, which is evident in your ability to express complex ideas and use different sentence structures. However, you may want to work on your pronunciation and intonation, as some of your words were not clear and your speech lacked natural rhythm. For example, you said \"met\" instead of \"meet\" and \"classroom\" instead of \"classmate.\" Practicing with a native speaker or using online resources can help you improve in this area. Keep up the good work!'\n",
              ")"
            ]
          },
          "metadata": {},
          "execution_count": 8
        }
      ],
      "source": [
        "convo = \"\"\"- Yeah, I always talk to my parents about the student.\n",
        "- Yeah, so the person that I met, you know, that I've met, that I want to study with is one of my classmates, Tom, and how I met this, met Tom is when I was in high school and he's in my next classroom and he is one of the best students in the other class and I really admire his intelligence and I learn a lot from him and I've known him since, you know, 2016 and he is one of the best students in the other class so that's why I want to study with him.\n",
        "\"\"\"\n",
        "\n",
        "zeroshot.forward(convo)"
      ]
    },
    {
      "cell_type": "code",
      "execution_count": null,
      "metadata": {
        "id": "4crNVkY2p4wF",
        "colab": {
          "base_uri": "https://localhost:8080/"
        },
        "outputId": "d61963b7-9dff-463f-89b9-587f7e95cae7"
      },
      "outputs": [
        {
          "output_type": "stream",
          "name": "stdout",
          "text": [
            "\n",
            "\n",
            "\n",
            "\n",
            "A student is learning English. You are assessing a spoken utterance. In at most two sentences, summarize (1) their specific strengths in English skills and (2) things they can work on to improve. Address the student in the second person. Include specific examples that the student can learn from. Be colloquial, as if in spoken conversation.\n",
            "\n",
            "---\n",
            "\n",
            "Follow the following format.\n",
            "\n",
            "Convo: ${convo}\n",
            "Reasoning: Let's think step by step in order to ${produce the output}. We ...\n",
            "Output: Treat this as a spoken conversation, so be succinct, colloquial, and empathetic.\n",
            "\n",
            "---\n",
            "\n",
            "Convo: - Yeah, I always talk to my parents about the student. - Yeah, so the person that I met, you know, that I've met, that I want to study with is one of my classmates, Tom, and how I met this, met Tom is when I was in high school and he's in my next classroom and he is one of the best students in the other class and I really admire his intelligence and I learn a lot from him and I've known him since, you know, 2016 and he is one of the best students in the other class so that's why I want to study with him.\n",
            "Reasoning: Let's think step by step in order to assess your spoken utterance. We can see that you have a strong grasp of English vocabulary and grammar, as evidenced by your ability to express complex ideas and use a variety of sentence structures. However, you may want to work on your pronunciation and intonation, as some of your words were not clear and your speech lacked natural rhythm. For example, you said \"met\" instead of \"meet\" and \"classroom\" instead of \"classmate.\" Practicing with a native speaker or using online resources can help you improve in this area. Keep up the good work!\n",
            "Output:\u001b[32m You have a great understanding of English vocabulary and grammar, which is shown by your ability to express complex ideas and use different sentence structures. However, you may want to work on your pronunciation and intonation, as some of your words were not clear and your speech lacked natural rhythm. For example, you said \"met\" instead of \"meet\" and \"classroom\" instead of \"classmate.\" Practicing with a native speaker or using online resources can help you improve in this area. Keep up the good work!\u001b[0m\n",
            "\n",
            "\n",
            "\n"
          ]
        }
      ],
      "source": [
        "zeroshot.forward(convo)"
      ]
    },
    {
      "cell_type": "code",
      "execution_count": null,
      "metadata": {
        "id": "P6sw3-Wqm3q3"
      },
      "outputs": [],
      "source": [
        "import dspy\n",
        "\n",
        "# Define the signature for autoamtic assessments.\n",
        "class Assess(dspy.Signature):\n",
        "    \"\"\"Assess the quality of a spoken utterance along the specified dimension.\"\"\"\n",
        "\n",
        "    context = dspy.InputField(desc='ignore if N/A')\n",
        "    assessed_text = dspy.InputField()\n",
        "    assessment_question = dspy.InputField()\n",
        "    assessment_answer = dspy.OutputField(desc=\"Yes or No\")\n",
        "\n",
        "\n",
        "gpt4T = dspy.OpenAI(model='gpt-4-turbo-preview', max_tokens=1000, model_type='chat')\n",
        "METRIC = None\n",
        "\n",
        "def metric(gold, pred, trace=None):\n",
        "    convo, utt = gold.convo, pred.output\n",
        "\n",
        "\n",
        "    # understandable = \"Is the spoken utterance simple enough to beginner English learners?\"\n",
        "\n",
        "    empathetic = \"Does the assessed spoken utterance sound empathetic and encouraging?\"\n",
        "    example_include = \"Does the spoken utterance include a specific example for the student to learn from?\"\n",
        "    colloquial = \"Would someone say this utterance in a beginner English classroom conversation?\"\n",
        "    correct = f\"The student said the following utterances:\\n{convo}\\nDoes the assessed spoken utterance correctly point out the specific issues and strengths in the student's utterances from a language skill perspective?\"\n",
        "\n",
        "    with dspy.context(lm=gpt4T):\n",
        "        empathetic = dspy.Predict(Assess)(context='N/A', assessed_text=utt, assessment_question=empathetic)\n",
        "        example_include = dspy.Predict(Assess)(context='N/A', assessed_text=utt, assessment_question=example_include)\n",
        "        # understandable = dspy.Predict(Assess)(context='N/A', assessed_text=utt, assessment_question=understandable)\n",
        "        colloquial =  dspy.Predict(Assess)(context='N/A', assessed_text=utt, assessment_question=colloquial)\n",
        "        correct =  dspy.Predict(Assess)(context='N/A', assessed_text=utt, assessment_question=correct)\n",
        "\n",
        "    empathetic, example_include, colloquial, correct = [m.assessment_answer.split()[0].lower() == 'yes' for m in [empathetic, example_include, colloquial, correct]]\n",
        "    score = (empathetic + example_include + 2 * colloquial + correct) if correct and empathetic and colloquial and len(utt) < 500 else 0\n",
        "\n",
        "    # if METRIC is not None:\n",
        "    #     if METRIC == 'correct': return correct\n",
        "    #     if METRIC == 'engaging': return engaging\n",
        "    #     if METRIC == 'faithful': return faithful\n",
        "\n",
        "    if trace is not None: return score >= 5\n",
        "    return score / 5"
      ]
    },
    {
      "cell_type": "code",
      "execution_count": null,
      "metadata": {
        "id": "el_U7qJMnHQu"
      },
      "outputs": [],
      "source": [
        "import json\n",
        "from dspy import Example\n",
        "\n",
        "convos = json.load(open(\"<PATH_TO_UTTERANCES>\"))\n",
        "trainset, valset, devset = convos[\"train\"], convos[\"val\"], convos[\"test\"]\n",
        "\n",
        "trainset = trainset[:125]\n",
        "trainset = [Example({\"convo\": x}).with_inputs(\"convo\") for x in trainset]\n",
        "valset = valset[:200]\n",
        "valset = [Example({\"convo\": x}).with_inputs(\"convo\") for x in valset]\n",
        "devset = devset[:300]\n",
        "devset = [Example({\"convo\": x}).with_inputs(\"convo\") for x in devset]"
      ]
    },
    {
      "cell_type": "code",
      "execution_count": null,
      "metadata": {
        "id": "Y_1Xh-JVndOV"
      },
      "outputs": [],
      "source": [
        "evaluate = Evaluate(metric=metric, devset=valset, num_threads=8, display_progress=True, display_table=5)\n",
        "evaluate(zeroshot)"
      ]
    },
    {
      "cell_type": "code",
      "execution_count": null,
      "metadata": {
        "colab": {
          "base_uri": "https://localhost:8080/"
        },
        "id": "eHYBAyRcnBtA",
        "outputId": "047042d9-1ed4-45a9-9fe2-69dba22baed7"
      },
      "outputs": [
        {
          "output_type": "stream",
          "name": "stderr",
          "text": [
            "  6%|▋         | 8/125 [00:00<00:00, 162.26it/s]\n"
          ]
        },
        {
          "output_type": "stream",
          "name": "stdout",
          "text": [
            "Bootstrapped 5 full traces after 9 examples in round 0.\n"
          ]
        },
        {
          "output_type": "stream",
          "name": "stderr",
          "text": [
            " 10%|█         | 13/125 [00:00<00:00, 112.67it/s]\n"
          ]
        },
        {
          "output_type": "stream",
          "name": "stdout",
          "text": [
            "Bootstrapped 5 full traces after 14 examples in round 0.\n"
          ]
        },
        {
          "output_type": "stream",
          "name": "stderr",
          "text": [
            "  6%|▌         | 7/125 [00:00<00:01, 92.58it/s]\n"
          ]
        },
        {
          "output_type": "stream",
          "name": "stdout",
          "text": [
            "Bootstrapped 5 full traces after 8 examples in round 0.\n"
          ]
        },
        {
          "output_type": "stream",
          "name": "stderr",
          "text": [
            "  9%|▉         | 11/125 [00:00<00:00, 117.05it/s]\n"
          ]
        },
        {
          "output_type": "stream",
          "name": "stdout",
          "text": [
            "Bootstrapped 5 full traces after 12 examples in round 0.\n"
          ]
        },
        {
          "output_type": "stream",
          "name": "stderr",
          "text": [
            " 11%|█         | 14/125 [00:00<00:00, 132.60it/s]\n"
          ]
        },
        {
          "output_type": "stream",
          "name": "stdout",
          "text": [
            "Bootstrapped 5 full traces after 15 examples in round 0.\n"
          ]
        },
        {
          "output_type": "stream",
          "name": "stderr",
          "text": [
            "  9%|▉         | 11/125 [00:00<00:00, 174.66it/s]\n"
          ]
        },
        {
          "output_type": "stream",
          "name": "stdout",
          "text": [
            "Bootstrapped 5 full traces after 12 examples in round 0.\n"
          ]
        },
        {
          "output_type": "stream",
          "name": "stderr",
          "text": [
            "  6%|▌         | 7/125 [00:00<00:00, 146.18it/s]\n"
          ]
        },
        {
          "output_type": "stream",
          "name": "stdout",
          "text": [
            "Bootstrapped 5 full traces after 8 examples in round 0.\n"
          ]
        },
        {
          "output_type": "stream",
          "name": "stderr",
          "text": [
            " 12%|█▏        | 15/125 [00:00<00:00, 239.23it/s]\n"
          ]
        },
        {
          "output_type": "stream",
          "name": "stdout",
          "text": [
            "Bootstrapped 5 full traces after 16 examples in round 0.\n"
          ]
        },
        {
          "output_type": "stream",
          "name": "stderr",
          "text": [
            " 11%|█         | 14/125 [00:00<00:00, 151.25it/s]\n"
          ]
        },
        {
          "output_type": "stream",
          "name": "stdout",
          "text": [
            "Bootstrapped 5 full traces after 15 examples in round 0.\n"
          ]
        },
        {
          "output_type": "stream",
          "name": "stderr",
          "text": [
            "[I 2024-02-27 20:10:03,927] A new study created in memory with name: no-name-ef17e0df-517f-44a6-a81a-05fccca0f35b\n",
            "Average Metric: 91.8 / 100  (91.8): 100%|██████████| 100/100 [00:00<00:00, 102.74it/s]\n"
          ]
        },
        {
          "output_type": "stream",
          "name": "stdout",
          "text": [
            "Average Metric: 91.8 / 100  (91.8%)\n"
          ]
        },
        {
          "output_type": "stream",
          "name": "stderr",
          "text": [
            "Average Metric: 19.0 / 25  (76.0): 100%|██████████| 25/25 [00:00<00:00, 100.66it/s]\n",
            "[I 2024-02-27 20:10:05,563] Trial 0 finished with value: 88.64 and parameters: {'136262730055632_predictor_instruction': 3, '136262730055632_predictor_demos': 9}. Best is trial 0 with value: 88.64.\n"
          ]
        },
        {
          "output_type": "stream",
          "name": "stdout",
          "text": [
            "Average Metric: 19.0 / 25  (76.0%)\n"
          ]
        },
        {
          "output_type": "stream",
          "name": "stderr",
          "text": [
            "Average Metric: 58.0 / 100  (58.0): 100%|██████████| 100/100 [00:01<00:00, 97.64it/s]\n"
          ]
        },
        {
          "output_type": "stream",
          "name": "stdout",
          "text": [
            "Average Metric: 58.0 / 100  (58.0%)\n"
          ]
        },
        {
          "output_type": "stream",
          "name": "stderr",
          "text": [
            "Average Metric: 16.0 / 25  (64.0): 100%|██████████| 25/25 [00:00<00:00, 130.97it/s]\n",
            "[I 2024-02-27 20:10:07,133] Trial 1 finished with value: 59.2 and parameters: {'136262730055632_predictor_instruction': 7, '136262730055632_predictor_demos': 5}. Best is trial 0 with value: 88.64.\n"
          ]
        },
        {
          "output_type": "stream",
          "name": "stdout",
          "text": [
            "Average Metric: 16.0 / 25  (64.0%)\n"
          ]
        },
        {
          "output_type": "stream",
          "name": "stderr",
          "text": [
            "Average Metric: 68.0 / 100  (68.0): 100%|██████████| 100/100 [00:00<00:00, 100.94it/s]\n"
          ]
        },
        {
          "output_type": "stream",
          "name": "stdout",
          "text": [
            "Average Metric: 68.0 / 100  (68.0%)\n"
          ]
        },
        {
          "output_type": "stream",
          "name": "stderr",
          "text": [
            "Average Metric: 17.8 / 25  (71.2): 100%|██████████| 25/25 [00:00<00:00, 99.50it/s]\n",
            "[I 2024-02-27 20:10:08,894] Trial 2 finished with value: 68.64 and parameters: {'136262730055632_predictor_instruction': 1, '136262730055632_predictor_demos': 1}. Best is trial 0 with value: 88.64.\n"
          ]
        },
        {
          "output_type": "stream",
          "name": "stdout",
          "text": [
            "Average Metric: 17.8 / 25  (71.2%)\n"
          ]
        },
        {
          "output_type": "stream",
          "name": "stderr",
          "text": [
            "Average Metric: 51.0 / 100  (51.0): 100%|██████████| 100/100 [00:01<00:00, 80.60it/s]\n"
          ]
        },
        {
          "output_type": "stream",
          "name": "stdout",
          "text": [
            "Average Metric: 51.0 / 100  (51.0%)\n"
          ]
        },
        {
          "output_type": "stream",
          "name": "stderr",
          "text": [
            "Average Metric: 11.0 / 25  (44.0): 100%|██████████| 25/25 [00:00<00:00, 148.42it/s]\n",
            "[I 2024-02-27 20:10:10,686] Trial 3 finished with value: 49.6 and parameters: {'136262730055632_predictor_instruction': 0, '136262730055632_predictor_demos': 8}. Best is trial 0 with value: 88.64.\n"
          ]
        },
        {
          "output_type": "stream",
          "name": "stdout",
          "text": [
            "Average Metric: 11.0 / 25  (44.0%)\n"
          ]
        },
        {
          "output_type": "stream",
          "name": "stderr",
          "text": [
            "Average Metric: 68.8 / 100  (68.8): 100%|██████████| 100/100 [00:01<00:00, 88.21it/s]\n"
          ]
        },
        {
          "output_type": "stream",
          "name": "stdout",
          "text": [
            "Average Metric: 68.8 / 100  (68.8%)\n"
          ]
        },
        {
          "output_type": "stream",
          "name": "stderr",
          "text": [
            "Average Metric: 16.8 / 25  (67.2): 100%|██████████| 25/25 [00:00<00:00, 115.78it/s]\n",
            "[I 2024-02-27 20:10:12,195] Trial 4 finished with value: 68.48 and parameters: {'136262730055632_predictor_instruction': 6, '136262730055632_predictor_demos': 7}. Best is trial 0 with value: 88.64.\n"
          ]
        },
        {
          "output_type": "stream",
          "name": "stdout",
          "text": [
            "Average Metric: 16.8 / 25  (67.2%)\n"
          ]
        },
        {
          "output_type": "stream",
          "name": "stderr",
          "text": [
            "Average Metric: 87.6 / 100  (87.6): 100%|██████████| 100/100 [00:00<00:00, 107.79it/s]\n"
          ]
        },
        {
          "output_type": "stream",
          "name": "stdout",
          "text": [
            "Average Metric: 87.6 / 100  (87.6%)\n"
          ]
        },
        {
          "output_type": "stream",
          "name": "stderr",
          "text": [
            "Average Metric: 21.8 / 25  (87.2): 100%|██████████| 25/25 [00:00<00:00, 107.54it/s]\n",
            "[I 2024-02-27 20:10:13,566] Trial 5 finished with value: 87.52 and parameters: {'136262730055632_predictor_instruction': 0, '136262730055632_predictor_demos': 9}. Best is trial 0 with value: 88.64.\n"
          ]
        },
        {
          "output_type": "stream",
          "name": "stdout",
          "text": [
            "Average Metric: 21.8 / 25  (87.2%)\n"
          ]
        },
        {
          "output_type": "stream",
          "name": "stderr",
          "text": [
            "Average Metric: 43.400000000000006 / 100  (43.4): 100%|██████████| 100/100 [00:01<00:00, 98.04it/s]\n",
            "[I 2024-02-27 20:10:14,720] Trial 6 pruned. \n"
          ]
        },
        {
          "output_type": "stream",
          "name": "stdout",
          "text": [
            "Average Metric: 43.400000000000006 / 100  (43.4%)\n"
          ]
        },
        {
          "output_type": "stream",
          "name": "stderr",
          "text": [
            "Average Metric: 68.0 / 100  (68.0): 100%|██████████| 100/100 [00:00<00:00, 578.80it/s]\n",
            "[I 2024-02-27 20:10:15,232] Trial 7 pruned. \n"
          ]
        },
        {
          "output_type": "stream",
          "name": "stdout",
          "text": [
            "Average Metric: 68.0 / 100  (68.0%)\n"
          ]
        },
        {
          "output_type": "stream",
          "name": "stderr",
          "text": [
            "Average Metric: 51.0 / 100  (51.0): 100%|██████████| 100/100 [00:01<00:00, 98.40it/s]\n",
            "[I 2024-02-27 20:10:16,449] Trial 8 pruned. \n"
          ]
        },
        {
          "output_type": "stream",
          "name": "stdout",
          "text": [
            "Average Metric: 51.0 / 100  (51.0%)\n"
          ]
        },
        {
          "output_type": "stream",
          "name": "stderr",
          "text": [
            "Average Metric: 54.8 / 100  (54.8): 100%|██████████| 100/100 [00:00<00:00, 106.78it/s]\n",
            "[I 2024-02-27 20:10:17,517] Trial 9 pruned. \n"
          ]
        },
        {
          "output_type": "stream",
          "name": "stdout",
          "text": [
            "Average Metric: 54.8 / 100  (54.8%)\n"
          ]
        },
        {
          "output_type": "stream",
          "name": "stderr",
          "text": [
            "Average Metric: 77.6 / 100  (77.6): 100%|██████████| 100/100 [00:00<00:00, 102.93it/s]\n"
          ]
        },
        {
          "output_type": "stream",
          "name": "stdout",
          "text": [
            "Average Metric: 77.6 / 100  (77.6%)\n"
          ]
        },
        {
          "output_type": "stream",
          "name": "stderr",
          "text": [
            "Average Metric: 18.6 / 25  (74.4): 100%|██████████| 25/25 [00:00<00:00, 101.97it/s]\n",
            "[I 2024-02-27 20:10:18,959] Trial 10 finished with value: 76.96 and parameters: {'136262730055632_predictor_instruction': 3, '136262730055632_predictor_demos': 7}. Best is trial 0 with value: 88.64.\n"
          ]
        },
        {
          "output_type": "stream",
          "name": "stdout",
          "text": [
            "Average Metric: 18.6 / 25  (74.4%)\n"
          ]
        },
        {
          "output_type": "stream",
          "name": "stderr",
          "text": [
            "Average Metric: 90.6 / 100  (90.6): 100%|██████████| 100/100 [00:00<00:00, 120.25it/s]\n"
          ]
        },
        {
          "output_type": "stream",
          "name": "stdout",
          "text": [
            "Average Metric: 90.6 / 100  (90.6%)\n"
          ]
        },
        {
          "output_type": "stream",
          "name": "stderr",
          "text": [
            "Average Metric: 21.0 / 25  (84.0): 100%|██████████| 25/25 [00:00<00:00, 396.25it/s]\n",
            "[I 2024-02-27 20:10:20,233] Trial 11 finished with value: 89.28 and parameters: {'136262730055632_predictor_instruction': 2, '136262730055632_predictor_demos': 9}. Best is trial 11 with value: 89.28.\n"
          ]
        },
        {
          "output_type": "stream",
          "name": "stdout",
          "text": [
            "Average Metric: 21.0 / 25  (84.0%)\n"
          ]
        },
        {
          "output_type": "stream",
          "name": "stderr",
          "text": [
            "Average Metric: 91.6 / 100  (91.6): 100%|██████████| 100/100 [00:01<00:00, 99.39it/s]\n"
          ]
        },
        {
          "output_type": "stream",
          "name": "stdout",
          "text": [
            "Average Metric: 91.6 / 100  (91.6%)\n"
          ]
        },
        {
          "output_type": "stream",
          "name": "stderr",
          "text": [
            "Average Metric: 21.0 / 25  (84.0): 100%|██████████| 25/25 [00:00<00:00, 783.94it/s]\n",
            "[I 2024-02-27 20:10:21,857] Trial 12 finished with value: 90.08 and parameters: {'136262730055632_predictor_instruction': 5, '136262730055632_predictor_demos': 9}. Best is trial 12 with value: 90.08.\n"
          ]
        },
        {
          "output_type": "stream",
          "name": "stdout",
          "text": [
            "Average Metric: 21.0 / 25  (84.0%)\n"
          ]
        },
        {
          "output_type": "stream",
          "name": "stderr",
          "text": [
            "Average Metric: 70.0 / 100  (70.0): 100%|██████████| 100/100 [00:01<00:00, 95.65it/s]\n",
            "[I 2024-02-27 20:10:23,121] Trial 13 pruned. \n"
          ]
        },
        {
          "output_type": "stream",
          "name": "stdout",
          "text": [
            "Average Metric: 70.0 / 100  (70.0%)\n"
          ]
        },
        {
          "output_type": "stream",
          "name": "stderr",
          "text": [
            "Average Metric: 77.0 / 100  (77.0): 100%|██████████| 100/100 [00:00<00:00, 116.11it/s]\n",
            "[I 2024-02-27 20:10:24,271] Trial 14 pruned. \n"
          ]
        },
        {
          "output_type": "stream",
          "name": "stdout",
          "text": [
            "Average Metric: 77.0 / 100  (77.0%)\n"
          ]
        },
        {
          "output_type": "stream",
          "name": "stderr",
          "text": [
            "Average Metric: 91.6 / 100  (91.6): 100%|██████████| 100/100 [00:00<00:00, 206.86it/s]\n"
          ]
        },
        {
          "output_type": "stream",
          "name": "stdout",
          "text": [
            "Average Metric: 91.6 / 100  (91.6%)\n"
          ]
        },
        {
          "output_type": "stream",
          "name": "stderr",
          "text": [
            "Average Metric: 21.0 / 25  (84.0): 100%|██████████| 25/25 [00:00<00:00, 584.15it/s]\n",
            "[I 2024-02-27 20:10:25,280] Trial 15 finished with value: 90.08 and parameters: {'136262730055632_predictor_instruction': 5, '136262730055632_predictor_demos': 9}. Best is trial 12 with value: 90.08.\n"
          ]
        },
        {
          "output_type": "stream",
          "name": "stdout",
          "text": [
            "Average Metric: 21.0 / 25  (84.0%)\n"
          ]
        },
        {
          "output_type": "stream",
          "name": "stderr",
          "text": [
            "Average Metric: 45.8 / 100  (45.8): 100%|██████████| 100/100 [00:01<00:00, 99.78it/s]\n",
            "[I 2024-02-27 20:10:26,518] Trial 16 pruned. \n"
          ]
        },
        {
          "output_type": "stream",
          "name": "stdout",
          "text": [
            "Average Metric: 45.8 / 100  (45.8%)\n"
          ]
        },
        {
          "output_type": "stream",
          "name": "stderr",
          "text": [
            "Average Metric: 53.0 / 100  (53.0): 100%|██████████| 100/100 [00:00<00:00, 107.68it/s]\n",
            "[I 2024-02-27 20:10:27,671] Trial 17 pruned. \n"
          ]
        },
        {
          "output_type": "stream",
          "name": "stdout",
          "text": [
            "Average Metric: 53.0 / 100  (53.0%)\n"
          ]
        },
        {
          "output_type": "stream",
          "name": "stderr",
          "text": [
            "Average Metric: 75.0 / 100  (75.0): 100%|██████████| 100/100 [00:00<00:00, 116.95it/s]\n",
            "[I 2024-02-27 20:10:28,793] Trial 18 pruned. \n"
          ]
        },
        {
          "output_type": "stream",
          "name": "stdout",
          "text": [
            "Average Metric: 75.0 / 100  (75.0%)\n"
          ]
        },
        {
          "output_type": "stream",
          "name": "stderr",
          "text": [
            "Average Metric: 53.0 / 100  (53.0): 100%|██████████| 100/100 [00:00<00:00, 102.67it/s]\n",
            "[I 2024-02-27 20:10:29,910] Trial 19 pruned. \n"
          ]
        },
        {
          "output_type": "stream",
          "name": "stdout",
          "text": [
            "Average Metric: 53.0 / 100  (53.0%)\n"
          ]
        }
      ],
      "source": [
        "# Set up the optimizer. We'll use very minimal hyperparameters for this example.\n",
        "# Just do random search with ~3 attempts, and in each attempt, bootstrap <= 3 traces.\n",
        "optimizer = BayesianSignatureOptimizer(metric=metric, prompt_model=gpt4T, task_model=turbo)\n",
        "\n",
        "\n",
        "optimized_chain = optimizer.compile(zeroshot, devset=trainset, optuna_trials_num=20, max_bootstrapped_demos=5, max_labeled_demos=5, eval_kwargs=dict(num_threads=8, display_progress=True))"
      ]
    },
    {
      "cell_type": "code",
      "execution_count": null,
      "metadata": {
        "id": "H7VU4VlKoMv8"
      },
      "outputs": [],
      "source": [
        "optimized_chain.save(\"emp_bot.json\")"
      ]
    },
    {
      "cell_type": "code",
      "execution_count": null,
      "metadata": {
        "id": "hQvQsujy9MW_"
      },
      "outputs": [],
      "source": [
        "evaluate(optimized_chain)"
      ]
    },
    {
      "cell_type": "code",
      "source": [
        "new_eval = Evaluate(metric=metric, devset=devset, num_threads=8, display_progress=True, display_table=5)"
      ],
      "metadata": {
        "id": "zRk7LG39F1RC"
      },
      "execution_count": null,
      "outputs": []
    },
    {
      "cell_type": "code",
      "source": [
        "new_eval(optimized_chain)"
      ],
      "metadata": {
        "colab": {
          "base_uri": "https://localhost:8080/",
          "height": 473
        },
        "id": "GfHGxVxfF5uD",
        "outputId": "9346e1ea-2288-4741-df64-e3b13dde1760"
      },
      "execution_count": null,
      "outputs": [
        {
          "output_type": "stream",
          "name": "stderr",
          "text": [
            "Average Metric: 268.0 / 300  (89.3): 100%|██████████| 300/300 [02:51<00:00,  1.75it/s]"
          ]
        },
        {
          "output_type": "stream",
          "name": "stdout",
          "text": [
            "Average Metric: 268.0 / 300  (89.3%)\n"
          ]
        },
        {
          "output_type": "stream",
          "name": "stderr",
          "text": [
            "\n"
          ]
        },
        {
          "output_type": "display_data",
          "data": {
            "text/plain": [
              "<pandas.io.formats.style.Styler at 0x7906923dbee0>"
            ],
            "text/html": [
              "<style type=\"text/css\">\n",
              "#T_4728d th {\n",
              "  text-align: left;\n",
              "}\n",
              "#T_4728d td {\n",
              "  text-align: left;\n",
              "}\n",
              "#T_4728d_row0_col0, #T_4728d_row0_col1, #T_4728d_row0_col2, #T_4728d_row0_col3, #T_4728d_row1_col0, #T_4728d_row1_col1, #T_4728d_row1_col2, #T_4728d_row1_col3, #T_4728d_row2_col0, #T_4728d_row2_col1, #T_4728d_row2_col2, #T_4728d_row2_col3, #T_4728d_row3_col0, #T_4728d_row3_col1, #T_4728d_row3_col2, #T_4728d_row3_col3, #T_4728d_row4_col0, #T_4728d_row4_col1, #T_4728d_row4_col2, #T_4728d_row4_col3 {\n",
              "  text-align: left;\n",
              "  white-space: pre-wrap;\n",
              "  word-wrap: break-word;\n",
              "  max-width: 400px;\n",
              "}\n",
              "</style>\n",
              "<table id=\"T_4728d\" class=\"dataframe\">\n",
              "  <thead>\n",
              "    <tr>\n",
              "      <th class=\"blank level0\" >&nbsp;</th>\n",
              "      <th id=\"T_4728d_level0_col0\" class=\"col_heading level0 col0\" >convo</th>\n",
              "      <th id=\"T_4728d_level0_col1\" class=\"col_heading level0 col1\" >rationale</th>\n",
              "      <th id=\"T_4728d_level0_col2\" class=\"col_heading level0 col2\" >output</th>\n",
              "      <th id=\"T_4728d_level0_col3\" class=\"col_heading level0 col3\" >metric</th>\n",
              "    </tr>\n",
              "  </thead>\n",
              "  <tbody>\n",
              "    <tr>\n",
              "      <th id=\"T_4728d_level0_row0\" class=\"row_heading level0 row0\" >0</th>\n",
              "      <td id=\"T_4728d_row0_col0\" class=\"data row0 col0\" >- Having break during work of studies essential helps to maintain focus, reduce stress and improve productivity. - Yes, there are more activities for young...</td>\n",
              "      <td id=\"T_4728d_row0_col1\" class=\"data row0 col1\" >assess your spoken English skills. You have a good understanding of the topic and can express your thoughts clearly. However, you can work on your...</td>\n",
              "      <td id=\"T_4728d_row0_col2\" class=\"data row0 col2\" >You have a good understanding of the topic and can express your thoughts clearly, which is great! However, you can work on your grammar and...</td>\n",
              "      <td id=\"T_4728d_row0_col3\" class=\"data row0 col3\" >1.0</td>\n",
              "    </tr>\n",
              "    <tr>\n",
              "      <th id=\"T_4728d_level0_row1\" class=\"row_heading level0 row1\" >1</th>\n",
              "      <td id=\"T_4728d_row1_col0\" class=\"data row1 col0\" >- Why do you think so? - In your view, should the media only publish good news? - How does social media help people access...</td>\n",
              "      <td id=\"T_4728d_row1_col1\" class=\"data row1 col1\" >assess your spoken English skills. You have a good understanding of the topic and can express your thoughts clearly. However, you can work on your...</td>\n",
              "      <td id=\"T_4728d_row1_col2\" class=\"data row1 col2\" >You have a good understanding of the topic and can express your thoughts clearly, which is great! However, you can work on your grammar and...</td>\n",
              "      <td id=\"T_4728d_row1_col3\" class=\"data row1 col3\" >1.0</td>\n",
              "    </tr>\n",
              "    <tr>\n",
              "      <th id=\"T_4728d_level0_row2\" class=\"row_heading level0 row2\" >2</th>\n",
              "      <td id=\"T_4728d_row2_col0\" class=\"data row2 col0\" >- Well, that was several years ago. I think when I graduated from college, I had a chance at the time to went back to...</td>\n",
              "      <td id=\"T_4728d_row2_col1\" class=\"data row2 col1\" >assess your spoken English skills. You have a good understanding of the topic and can express yourself clearly. However, you can work on your verb...</td>\n",
              "      <td id=\"T_4728d_row2_col2\" class=\"data row2 col2\" >You have a good understanding of the topic and can express yourself clearly, which is great! However, you can work on your verb tenses and...</td>\n",
              "      <td id=\"T_4728d_row2_col3\" class=\"data row2 col3\" >1.0</td>\n",
              "    </tr>\n",
              "    <tr>\n",
              "      <th id=\"T_4728d_level0_row3\" class=\"row_heading level0 row3\" >3</th>\n",
              "      <td id=\"T_4728d_row3_col0\" class=\"data row3 col0\" >- Oh yes, I have learned how to sing before. I've taken some classes and practiced on my own to improve my techniques in singing....</td>\n",
              "      <td id=\"T_4728d_row3_col1\" class=\"data row3 col1\" >assess your spoken English skills. You have a good understanding of the topic and can express your thoughts clearly. However, you can work on your...</td>\n",
              "      <td id=\"T_4728d_row3_col2\" class=\"data row3 col2\" >You have a good understanding of the topic and can express your thoughts clearly, which is great! However, you can work on your grammar and...</td>\n",
              "      <td id=\"T_4728d_row3_col3\" class=\"data row3 col3\" >1.0</td>\n",
              "    </tr>\n",
              "    <tr>\n",
              "      <th id=\"T_4728d_level0_row4\" class=\"row_heading level0 row4\" >4</th>\n",
              "      <td id=\"T_4728d_row4_col0\" class=\"data row4 col0\" >- There are many TV programs about wild animals in my country. Some of the most popular shows focus on wildlife conservation, while others take...</td>\n",
              "      <td id=\"T_4728d_row4_col1\" class=\"data row4 col1\" >assess your spoken English skills. You have a good understanding of the topic and can express yourself clearly. However, you can work on your grammar...</td>\n",
              "      <td id=\"T_4728d_row4_col2\" class=\"data row4 col2\" >You have a good understanding of the topic and can express yourself clearly, which is great! However, you can work on your grammar and sentence...</td>\n",
              "      <td id=\"T_4728d_row4_col3\" class=\"data row4 col3\" >1.0</td>\n",
              "    </tr>\n",
              "  </tbody>\n",
              "</table>\n"
            ]
          },
          "metadata": {}
        },
        {
          "output_type": "display_data",
          "data": {
            "text/plain": [
              "<IPython.core.display.HTML object>"
            ],
            "text/html": [
              "\n",
              "                <div style='\n",
              "                    text-align: center; \n",
              "                    font-size: 16px; \n",
              "                    font-weight: bold; \n",
              "                    color: #555; \n",
              "                    margin: 10px 0;'>\n",
              "                    ... 295 more rows not displayed ...\n",
              "                </div>\n",
              "                "
            ]
          },
          "metadata": {}
        },
        {
          "output_type": "execute_result",
          "data": {
            "text/plain": [
              "89.33"
            ]
          },
          "metadata": {},
          "execution_count": 18
        }
      ]
    },
    {
      "cell_type": "code",
      "source": [
        "new_eval(zeroshot)"
      ],
      "metadata": {
        "colab": {
          "base_uri": "https://localhost:8080/",
          "height": 473
        },
        "id": "80y8sqkuF8NZ",
        "outputId": "96598cf3-88bd-4b38-8b44-3a8cfb0c51cf"
      },
      "execution_count": null,
      "outputs": [
        {
          "output_type": "stream",
          "name": "stderr",
          "text": [
            "Average Metric: 178.40000000000015 / 300  (59.5): 100%|██████████| 300/300 [01:34<00:00,  3.19it/s]"
          ]
        },
        {
          "output_type": "stream",
          "name": "stdout",
          "text": [
            "Average Metric: 178.40000000000015 / 300  (59.5%)\n"
          ]
        },
        {
          "output_type": "stream",
          "name": "stderr",
          "text": [
            "\n"
          ]
        },
        {
          "output_type": "display_data",
          "data": {
            "text/plain": [
              "<pandas.io.formats.style.Styler at 0x7906923759c0>"
            ],
            "text/html": [
              "<style type=\"text/css\">\n",
              "#T_73fd5 th {\n",
              "  text-align: left;\n",
              "}\n",
              "#T_73fd5 td {\n",
              "  text-align: left;\n",
              "}\n",
              "#T_73fd5_row0_col0, #T_73fd5_row0_col1, #T_73fd5_row0_col2, #T_73fd5_row0_col3, #T_73fd5_row1_col0, #T_73fd5_row1_col1, #T_73fd5_row1_col2, #T_73fd5_row1_col3, #T_73fd5_row2_col0, #T_73fd5_row2_col1, #T_73fd5_row2_col2, #T_73fd5_row2_col3, #T_73fd5_row3_col0, #T_73fd5_row3_col1, #T_73fd5_row3_col2, #T_73fd5_row3_col3, #T_73fd5_row4_col0, #T_73fd5_row4_col1, #T_73fd5_row4_col2, #T_73fd5_row4_col3 {\n",
              "  text-align: left;\n",
              "  white-space: pre-wrap;\n",
              "  word-wrap: break-word;\n",
              "  max-width: 400px;\n",
              "}\n",
              "</style>\n",
              "<table id=\"T_73fd5\" class=\"dataframe\">\n",
              "  <thead>\n",
              "    <tr>\n",
              "      <th class=\"blank level0\" >&nbsp;</th>\n",
              "      <th id=\"T_73fd5_level0_col0\" class=\"col_heading level0 col0\" >convo</th>\n",
              "      <th id=\"T_73fd5_level0_col1\" class=\"col_heading level0 col1\" >rationale</th>\n",
              "      <th id=\"T_73fd5_level0_col2\" class=\"col_heading level0 col2\" >output</th>\n",
              "      <th id=\"T_73fd5_level0_col3\" class=\"col_heading level0 col3\" >metric</th>\n",
              "    </tr>\n",
              "  </thead>\n",
              "  <tbody>\n",
              "    <tr>\n",
              "      <th id=\"T_73fd5_level0_row0\" class=\"row_heading level0 row0\" >0</th>\n",
              "      <td id=\"T_73fd5_row0_col0\" class=\"data row0 col0\" >- Having break during work of studies essential helps to maintain focus, reduce stress and improve productivity. - Yes, there are more activities for young...</td>\n",
              "      <td id=\"T_73fd5_row0_col1\" class=\"data row0 col1\" >assess your spoken utterance. We can see that you have a strong understanding of the English language, as you are able to express your thoughts...</td>\n",
              "      <td id=\"T_73fd5_row0_col2\" class=\"data row0 col2\" >You have a great grasp of the English language, as you are able to express your thoughts and ideas clearly and coherently. However, you can...</td>\n",
              "      <td id=\"T_73fd5_row0_col3\" class=\"data row0 col3\" >0.0</td>\n",
              "    </tr>\n",
              "    <tr>\n",
              "      <th id=\"T_73fd5_level0_row1\" class=\"row_heading level0 row1\" >1</th>\n",
              "      <td id=\"T_73fd5_row1_col0\" class=\"data row1 col0\" >- Why do you think so? - In your view, should the media only publish good news? - How does social media help people access...</td>\n",
              "      <td id=\"T_73fd5_row1_col1\" class=\"data row1 col1\" >assess your spoken utterance. We can see that you have a strong understanding of how to ask questions and engage in a conversation. However, you...</td>\n",
              "      <td id=\"T_73fd5_row1_col2\" class=\"data row1 col2\" >You're doing great with asking questions and keeping the conversation going! However, you can work on your pronunciation and enunciation to improve your clarity and...</td>\n",
              "      <td id=\"T_73fd5_row1_col3\" class=\"data row1 col3\" >1.0</td>\n",
              "    </tr>\n",
              "    <tr>\n",
              "      <th id=\"T_73fd5_level0_row2\" class=\"row_heading level0 row2\" >2</th>\n",
              "      <td id=\"T_73fd5_row2_col0\" class=\"data row2 col0\" >- Well, that was several years ago. I think when I graduated from college, I had a chance at the time to went back to...</td>\n",
              "      <td id=\"T_73fd5_row2_col1\" class=\"data row2 col1\" >assess your spoken utterance. We can see that you have a strong grasp of verb tenses and use them correctly in your sentences. However, you...</td>\n",
              "      <td id=\"T_73fd5_row2_col2\" class=\"data row2 col2\" >You have a good understanding of verb tenses, but you can work on your pronunciation and intonation to make your speech more natural. For example,...</td>\n",
              "      <td id=\"T_73fd5_row2_col3\" class=\"data row2 col3\" >1.0</td>\n",
              "    </tr>\n",
              "    <tr>\n",
              "      <th id=\"T_73fd5_level0_row3\" class=\"row_heading level0 row3\" >3</th>\n",
              "      <td id=\"T_73fd5_row3_col0\" class=\"data row3 col0\" >- Oh yes, I have learned how to sing before. I've taken some classes and practiced on my own to improve my techniques in singing....</td>\n",
              "      <td id=\"T_73fd5_row3_col1\" class=\"data row3 col1\" >assess your spoken utterance. We can see that you have a strong understanding of musical elements and how they work together to create a beautiful...</td>\n",
              "      <td id=\"T_73fd5_row3_col2\" class=\"data row3 col2\" >You have a strong understanding of musical elements and the power of singing to bring people together. However, you mentioned that you get tense when...</td>\n",
              "      <td id=\"T_73fd5_row3_col3\" class=\"data row3 col3\" >0.0</td>\n",
              "    </tr>\n",
              "    <tr>\n",
              "      <th id=\"T_73fd5_level0_row4\" class=\"row_heading level0 row4\" >4</th>\n",
              "      <td id=\"T_73fd5_row4_col0\" class=\"data row4 col0\" >- There are many TV programs about wild animals in my country. Some of the most popular shows focus on wildlife conservation, while others take...</td>\n",
              "      <td id=\"T_73fd5_row4_col1\" class=\"data row4 col1\" >assess your spoken English skills. We can see that you have a strong grasp of vocabulary and can express yourself clearly and confidently. However, you...</td>\n",
              "      <td id=\"T_73fd5_row4_col2\" class=\"data row4 col2\" >You have a great vocabulary and can express yourself confidently, but you can work on your fluency and pronunciation to make your speech sound more...</td>\n",
              "      <td id=\"T_73fd5_row4_col3\" class=\"data row4 col3\" >0.8</td>\n",
              "    </tr>\n",
              "  </tbody>\n",
              "</table>\n"
            ]
          },
          "metadata": {}
        },
        {
          "output_type": "display_data",
          "data": {
            "text/plain": [
              "<IPython.core.display.HTML object>"
            ],
            "text/html": [
              "\n",
              "                <div style='\n",
              "                    text-align: center; \n",
              "                    font-size: 16px; \n",
              "                    font-weight: bold; \n",
              "                    color: #555; \n",
              "                    margin: 10px 0;'>\n",
              "                    ... 295 more rows not displayed ...\n",
              "                </div>\n",
              "                "
            ]
          },
          "metadata": {}
        },
        {
          "output_type": "execute_result",
          "data": {
            "text/plain": [
              "59.47"
            ]
          },
          "metadata": {},
          "execution_count": 19
        }
      ]
    },
    {
      "cell_type": "code",
      "execution_count": null,
      "metadata": {
        "id": "_Ba0sxhG_V00",
        "colab": {
          "base_uri": "https://localhost:8080/"
        },
        "outputId": "f62cc206-42ee-4e1a-8db3-ecff1872b7d2"
      },
      "outputs": [
        {
          "output_type": "stream",
          "name": "stdout",
          "text": [
            "\n",
            "\n",
            "\n",
            "\n",
            "Proposed Instruction: You're playing the role of an encouraging English tutor for a student who is actively learning and practicing their English through conversation. Your task is to listen attentively to their spoken utterances and provide constructive feedback. In your response, kindly highlight (1) one specific strength they showed or an aspect they did well in during the conversation, complimenting their effort or skill in English, and (2) offer one focused suggestion on how they can improve further, making it actionable and clear. Use colloquial language to maintain the conversational tone, directly addressing the student with \"you\", and where possible, reference specific examples from their speech to illustrate your points. Your feedback should feel like a supportive nudge towards their language learning journey, keeping it concise and personalized.\n",
            "\n",
            "---\n",
            "\n",
            "Follow the following format.\n",
            "\n",
            "Convo: ${convo}\n",
            "Reasoning: Let's think step by step in order to ${produce the output}. We ...\n",
            "Feedback: Treat this as a spoken conversation, so be succinct, colloquial, and empathetic.\n",
            "\n",
            "---\n",
            "\n",
            "Convo: - Sorry, I have not get some information about the personal medical data sharing. Well, I think it's maybe something related to digital. Like, it's different from the traditional medical system. Like, all medical systems transfer from the traditional one into the digital one. And maybe the digital systems will help the hospital to organize the patients and to regulate some patient's information with high efficiency and better orders. So it may saves a lot of time for some... - Yeah, maybe like if you go to one hospital and if the doctor keeps a capital record on his on the paper then you left this hospital go to another hospital the new doctor have no idea about your situation if all information of patients can put on the website or in other words those are online information that whether we change the hospital the doctor can get access to our information and we can show our situation to to those doctors yeah it's a good idea - Yeah, if we put some information online, it means we lose our Privacy or our information is easy to be steered by some Bad person. Yeah, maybe some people they have some Some disease which they don't want to be known They want to keep at a secret if we upload their disease Their information about this disease some people there will feel uncomfortable maybe we can like set some System which only allowed the The doctor can see all this information Information something like the bank so people cannot get a sex to the system if they are not Permated permitted to do these things\n",
            "Reasoning: Let's think step by step in order to assess your spoken utterance. You have a strong understanding of the topic and are able to explain it clearly. However, you can work on your pronunciation and grammar to improve your fluency. For example, you can practice pronouncing words like \"information\" and \"permitted\" more clearly and work on using proper verb tenses. Keep practicing and you will continue to improve!\n",
            "Feedback: You have a good grasp of the topic and can explain it well. However, you can work on your pronunciation and grammar to improve your fluency. For example, try practicing words like \"information\" and \"permitted\" and using proper verb tenses. Keep practicing and you'll get even better!\n",
            "\n",
            "---\n",
            "\n",
            "Convo: - The people who influence me the most was my primary teacher, Ms Wong. She made me follow the English teaching class on the road to the next level. She is so gentle, so calm, so professional. And the method she is teaching, she is interesting. So in her English class, my attention is always focused. She makes me feel that English is a very interesting subject. And she always shares with me the experience in English that she is in the world, her life, her study life and the normal life in the world. And that made me think that English is a necessary and important skill. And it played an important role in our life. - Yes, I told her, I always, when I chat with my friends, I will always mention this teacher. She, although she is the primary English teacher for me, is nearly 17 years ago. Yeah, it's a long time and we haven't had a long time to say that. I still remember her and always remember what she did for us. - I think the childhood is the most... It's the most pure and carefree days. In that time happiness is the very easy. And we always do what we like. We don't need to concern our life, concern how to make money for living.\n",
            "Reasoning: Let's think step by step in order to assess your spoken English skills. You have a strong foundation in English, as evidenced by your ability to express yourself clearly and fluently. However, you can work on your pronunciation and intonation to make your speech more natural and engaging. For example, you can practice speaking with a native speaker or listen to English podcasts to improve your pronunciation and intonation. Keep up the good work and continue to practice, and you will see improvement in no time!\n",
            "Feedback: You have a great foundation in English, and it's clear that you have a strong grasp of the language. However, you can work on your pronunciation and intonation to make your speech sound more natural and engaging. For example, you can try practicing with a native speaker or listening to English podcasts to improve your pronunciation and intonation. Keep up the good work and keep practicing, and you'll see improvement in no time!\n",
            "\n",
            "---\n",
            "\n",
            "Convo: - Yes, of course. I usually focus on my test work. - When I was reading books or I'm doing some hard work. - I will find some help, maybe from another people or from folks.\n",
            "Reasoning: Let's think step by step in order to assess this spoken utterance. We can see that you have a good grasp of basic English skills, such as using the correct verb tense and sentence structure. However, you may want to work on your vocabulary and pronunciation, as some words were mispronounced and you used \"folks\" instead of \"people\" or \"others.\"\n",
            "Feedback: You have a good understanding of basic English skills, like using the right verb tense and sentence structure. However, you may want to focus on expanding your vocabulary and improving your pronunciation. For example, instead of saying \"folks,\" you can use \"people\" or \"others.\" Keep practicing and seeking help from others to improve your skills.\n",
            "\n",
            "---\n",
            "\n",
            "Convo: - Well, as a way of recording things, I think it's much simpler and easier for you to take photos than writing a journal or something like that. - No, not really, because back then a few decades ago I think going to cinema was really expensive and we cannot afford it when I was a kid. - I prefer go to cinema with my friends because I don't have quite the same taste for movie or films with my parents so our friends is much better.\n",
            "Reasoning: Let's think step by step in order to assess your spoken English skills. We can see that you have a good grasp of vocabulary and can express your thoughts clearly. However, you can work on your grammar and sentence structure to make your speech more fluent and natural. For example, instead of saying \"I prefer go to cinema\", you can say \"I prefer going to the cinema\". This will make your sentence more grammatically correct and sound more natural. Keep practicing and you will improve in no time!\n",
            "Feedback: You have a good grasp of vocabulary and can express your thoughts clearly, which is great! However, you can work on your grammar and sentence structure to make your speech more fluent and natural. For example, instead of saying \"I prefer go to cinema\", you can say \"I prefer going to the cinema\". Keep practicing and you will improve in no time!\n",
            "\n",
            "---\n",
            "\n",
            "Convo: - Small businesses like small pop and man shops that people would open, small restaurants. I think those are pretty, you know, the go-to small business that one can think of on top of their minds. - I think I would prefer big companies because big companies are more insured, the quality is more controlled and if you have any issues with the product you have easier time to get a refund or replacement for small companies. I do understand that they have higher operation costs so sometimes they would try not to have refunds and replacements and so on. So it's understandable but as a consumer I would prefer big companies with their insurance policies so I think that is my choice. - Well, I think it's better to live it to work in a big company because in big companies you have a bigger platform. You have chances to learn from people who came before you, who were also working in the company. You have chances to work across companies because you have a lot of business dealing with them. And big companies often give their staff training with something that most small companies lack. So at least at the beginning stage of your career, I think working in a big company is definitely a better way. They're the better choice for most people.\n",
            "Reasoning: Let's think step by step in order to assess your spoken utterance. You have a strong understanding of the differences between small and big businesses, and you provide specific examples to support your points. However, you can work on your pronunciation and intonation to make your speech more clear and engaging. For example, try to enunciate each word clearly and vary your tone to emphasize important points. This will help you communicate your ideas more effectively.\n",
            "Feedback: You have a good grasp of the differences between small and big businesses and you give good examples to support your points. But you can work on your pronunciation and intonation to make your speech more clear and engaging. For example, try to say each word clearly and change your tone to emphasize important points. This will help you communicate your ideas more effectively.\n",
            "\n",
            "---\n",
            "\n",
            "Convo: - I like to listen to popular music. It is easy to follow. It's easy to sing. I like to share those favorite songs with my friends together. And when I listen to some music or some songs that sound so good, I like to listen to it again and again. - My favorite singer is Joe Shen. He is a male singer. His voice is similar to a female singer's voice. His songs are clean and clear and he can sing all kinds of songs. He can speak eight languages. It's amazing. I really like his songs. - Yeah, I do like art. I like to, I like those pictures, paintings. I really want to draw some pictures by myself but I'm not good at it. I'd like to see them.\n",
            "Reasoning: Let's think step by step in order to\u001b[32m assess your spoken English skills. You have a good understanding of vocabulary and can express your thoughts clearly. However, you can work on your grammar and sentence structure to make your speech more fluent and natural. For example, instead of saying \"I like to, I like those pictures, paintings\", you can say \"I like looking at pictures and paintings.\" This will make your sentence more grammatically correct and sound more natural. Keep practicing and you will improve in no time!\n",
            "Feedback: You have a good understanding of vocabulary and can express your thoughts clearly, which is great! However, you can work on your grammar and sentence structure to make your speech more fluent and natural. For example, instead of saying \"I like to, I like those pictures, paintings\", you can say \"I like looking at pictures and paintings.\" Keep practicing and you will improve in no time!\u001b[0m\n",
            "\n",
            "\n",
            "\n"
          ]
        }
      ],
      "source": [
        "turbo.inspect_history()"
      ]
    },
    {
      "cell_type": "code",
      "execution_count": null,
      "metadata": {
        "id": "FAwolzRt-J9U"
      },
      "outputs": [],
      "source": [
        "reload_chain = OfferFeedback()\n",
        "reload_chain.load(\"emp_bot.json\")"
      ]
    },
    {
      "cell_type": "code",
      "execution_count": null,
      "metadata": {
        "id": "0yYHRM0gpliv"
      },
      "outputs": [],
      "source": [
        "evaluate(reload_chain)"
      ]
    },
    {
      "cell_type": "code",
      "execution_count": null,
      "metadata": {
        "id": "2v6f-Rx7ppVw"
      },
      "outputs": [],
      "source": [
        "for x in valset[:20]:\n",
        "  print(x)\n",
        "  print(reload_chain(x[\"convo\"]))"
      ]
    },
    {
      "cell_type": "code",
      "execution_count": null,
      "metadata": {
        "id": "5fOjkX4qw1-7",
        "colab": {
          "base_uri": "https://localhost:8080/"
        },
        "outputId": "14005de7-6502-4aad-a4c8-2cd37dc940eb"
      },
      "outputs": [
        {
          "output_type": "execute_result",
          "data": {
            "text/plain": [
              "Prediction(\n",
              "    rationale='assess your spoken English skills. You have a good understanding of grammar and vocabulary, and you are able to express your thoughts clearly. However, you can work on your sentence structure and pronunciation to make your speech more fluent and natural. For example, instead of saying \"the student\", you can say \"my classmate\". Also, try to enunciate each word clearly and vary your tone to make your speech more engaging. Keep practicing and you will continue to improve!',\n",
              "    output='You have a good understanding of grammar and vocabulary, and you are able to express your thoughts clearly. However, you can work on your sentence structure and pronunciation to make your speech more fluent and natural. For example, instead of saying \"the student\", you can say \"my classmate\". Also, try to enunciate each word clearly and vary your tone to make your speech more engaging. Keep practicing and you will continue to improve!'\n",
              ")"
            ]
          },
          "metadata": {},
          "execution_count": 10
        }
      ],
      "source": [
        "reload_chain.forward(convo)"
      ]
    },
    {
      "cell_type": "code",
      "source": [],
      "metadata": {
        "id": "kuQ15EMejj7v"
      },
      "execution_count": null,
      "outputs": []
    }
  ],
  "metadata": {
    "colab": {
      "provenance": []
    },
    "kernelspec": {
      "display_name": "Python 3",
      "name": "python3"
    },
    "language_info": {
      "name": "python"
    }
  },
  "nbformat": 4,
  "nbformat_minor": 0
}